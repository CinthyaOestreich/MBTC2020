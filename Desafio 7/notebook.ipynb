{
 "cells": [
  {
   "cell_type": "markdown",
   "metadata": {
    "collapsed": true
   },
   "source": [
    "# MARATONA BEHIND THE CODE 2020\n",
    "\n",
    "## DESAFIO 7 - TNT\n",
    "\n",
    "### Desafio desenvolvido por Cinthya Oestreich Silva"
   ]
  },
  {
   "cell_type": "markdown",
   "metadata": {},
   "source": [
    "<hr>"
   ]
  },
  {
   "cell_type": "markdown",
   "metadata": {},
   "source": [
    "## Installing Libs"
   ]
  },
  {
   "cell_type": "code",
   "execution_count": 1,
   "metadata": {},
   "outputs": [
    {
     "name": "stdout",
     "output_type": "stream",
     "text": [
      "Requirement already satisfied: cloudant in c:\\users\\cinth\\anaconda3\\envs\\ml\\lib\\site-packages (2.14.0)\n",
      "Requirement already satisfied: requests<3.0.0,>=2.7.0 in c:\\users\\cinth\\anaconda3\\envs\\ml\\lib\\site-packages (from cloudant) (2.24.0)\n",
      "Requirement already satisfied: chardet<4,>=3.0.2 in c:\\users\\cinth\\anaconda3\\envs\\ml\\lib\\site-packages (from requests<3.0.0,>=2.7.0->cloudant) (3.0.4)\n",
      "Requirement already satisfied: certifi>=2017.4.17 in c:\\users\\cinth\\anaconda3\\envs\\ml\\lib\\site-packages (from requests<3.0.0,>=2.7.0->cloudant) (2020.6.20)\n",
      "Requirement already satisfied: urllib3!=1.25.0,!=1.25.1,<1.26,>=1.21.1 in c:\\users\\cinth\\anaconda3\\envs\\ml\\lib\\site-packages (from requests<3.0.0,>=2.7.0->cloudant) (1.25.10)\n",
      "Requirement already satisfied: idna<3,>=2.5 in c:\\users\\cinth\\anaconda3\\envs\\ml\\lib\\site-packages (from requests<3.0.0,>=2.7.0->cloudant) (2.10)\n"
     ]
    }
   ],
   "source": [
    "!pip install cloudant"
   ]
  },
  {
   "cell_type": "code",
   "execution_count": 2,
   "metadata": {},
   "outputs": [
    {
     "name": "stdout",
     "output_type": "stream",
     "text": [
      "Requirement already up-to-date: scikit-learn in c:\\users\\cinth\\anaconda3\\envs\\ml\\lib\\site-packages (0.23.2)\n",
      "Requirement already satisfied, skipping upgrade: numpy>=1.13.3 in c:\\users\\cinth\\anaconda3\\envs\\ml\\lib\\site-packages (from scikit-learn) (1.19.1)\n",
      "Requirement already satisfied, skipping upgrade: joblib>=0.11 in c:\\users\\cinth\\anaconda3\\envs\\ml\\lib\\site-packages (from scikit-learn) (0.16.0)\n",
      "Requirement already satisfied, skipping upgrade: threadpoolctl>=2.0.0 in c:\\users\\cinth\\anaconda3\\envs\\ml\\lib\\site-packages (from scikit-learn) (2.1.0)\n",
      "Requirement already satisfied, skipping upgrade: scipy>=0.19.1 in c:\\users\\cinth\\anaconda3\\envs\\ml\\lib\\site-packages (from scikit-learn) (1.5.0)\n"
     ]
    }
   ],
   "source": [
    "!pip install scikit-learn --upgrade"
   ]
  },
  {
   "cell_type": "code",
   "execution_count": 3,
   "metadata": {},
   "outputs": [
    {
     "name": "stdout",
     "output_type": "stream",
     "text": [
      "Requirement already up-to-date: xgboost in c:\\users\\cinth\\anaconda3\\envs\\ml\\lib\\site-packages (1.2.0)\n",
      "Requirement already satisfied, skipping upgrade: scipy in c:\\users\\cinth\\anaconda3\\envs\\ml\\lib\\site-packages (from xgboost) (1.5.0)\n",
      "Requirement already satisfied, skipping upgrade: numpy in c:\\users\\cinth\\anaconda3\\envs\\ml\\lib\\site-packages (from xgboost) (1.19.1)\n"
     ]
    }
   ],
   "source": [
    "!pip install xgboost --upgrade"
   ]
  },
  {
   "cell_type": "code",
   "execution_count": 4,
   "metadata": {},
   "outputs": [
    {
     "name": "stdout",
     "output_type": "stream",
     "text": [
      "Requirement already up-to-date: imblearn in c:\\users\\cinth\\anaconda3\\envs\\ml\\lib\\site-packages (0.0)\n",
      "Requirement already satisfied, skipping upgrade: imbalanced-learn in c:\\users\\cinth\\anaconda3\\envs\\ml\\lib\\site-packages (from imblearn) (0.7.0)\n",
      "Requirement already satisfied, skipping upgrade: numpy>=1.13.3 in c:\\users\\cinth\\anaconda3\\envs\\ml\\lib\\site-packages (from imbalanced-learn->imblearn) (1.19.1)\n",
      "Requirement already satisfied, skipping upgrade: joblib>=0.11 in c:\\users\\cinth\\anaconda3\\envs\\ml\\lib\\site-packages (from imbalanced-learn->imblearn) (0.16.0)\n",
      "Requirement already satisfied, skipping upgrade: scikit-learn>=0.23 in c:\\users\\cinth\\anaconda3\\envs\\ml\\lib\\site-packages (from imbalanced-learn->imblearn) (0.23.2)\n",
      "Requirement already satisfied, skipping upgrade: scipy>=0.19.1 in c:\\users\\cinth\\anaconda3\\envs\\ml\\lib\\site-packages (from imbalanced-learn->imblearn) (1.5.0)\n",
      "Requirement already satisfied, skipping upgrade: threadpoolctl>=2.0.0 in c:\\users\\cinth\\anaconda3\\envs\\ml\\lib\\site-packages (from scikit-learn>=0.23->imbalanced-learn->imblearn) (2.1.0)\n"
     ]
    }
   ],
   "source": [
    "!pip install imblearn --upgrade"
   ]
  },
  {
   "cell_type": "code",
   "execution_count": 5,
   "metadata": {},
   "outputs": [],
   "source": [
    "from sklearn.neighbors import KNeighborsClassifier\n",
    "from sklearn.neural_network  import MLPClassifier\n",
    "from sklearn.linear_model import LogisticRegression\n",
    "from sklearn.naive_bayes import GaussianNB\n",
    "from sklearn.tree import DecisionTreeClassifier\n",
    "from sklearn.ensemble import BaggingClassifier\n",
    "from sklearn.ensemble import AdaBoostClassifier\n",
    "from sklearn.ensemble import VotingClassifier\n",
    "from sklearn.ensemble import RandomForestClassifier\n",
    "from sklearn.metrics import confusion_matrix"
   ]
  },
  {
   "cell_type": "markdown",
   "metadata": {},
   "source": [
    "<hr>"
   ]
  },
  {
   "cell_type": "code",
   "execution_count": 6,
   "metadata": {},
   "outputs": [],
   "source": [
    "#Conexão com Cloudant"
   ]
  },
  {
   "cell_type": "code",
   "execution_count": 15,
   "metadata": {},
   "outputs": [],
   "source": [
    "from cloudant import Cloudant\n",
    "# PEGAR AS INFROMAÇÕES ABAIXO NA ABA CREDENTIALS DO SERVIÇO DE CLOUDANT NA IBM CLOUD\n",
    "u = '8f71d80f-3f15-4cef-8336-d45f5389ed24-bluemix'\n",
    "p = '61ea008118f4ffbf48692be580fe2c54f2ebbdffacd3976a4ab861aacddadff6'\n",
    "a = '8f71d80f-3f15-4cef-8336-d45f5389ed24-bluemix' # SIM, O ENDPOINT CIRADO PARA O SEU CLOUD É O MESMO QUE O USUÁRIO :-)\n",
    "client = Cloudant(u, p, account=a, connect=True, auto_renew=True)"
   ]
  },
  {
   "cell_type": "code",
   "execution_count": 16,
   "metadata": {},
   "outputs": [],
   "source": [
    "#Informar o nome do database que vamos utilizar"
   ]
  },
  {
   "cell_type": "code",
   "execution_count": 17,
   "metadata": {},
   "outputs": [],
   "source": [
    "db = client['iot-cinthya'] # NOME DO DB CRIADO NO CLOUDANT"
   ]
  },
  {
   "cell_type": "code",
   "execution_count": 24,
   "metadata": {},
   "outputs": [
    {
     "name": "stdout",
     "output_type": "stream",
     "text": [
      "40565\n"
     ]
    }
   ],
   "source": [
    "response = db.all_docs(limit=41000, include_docs= True)\n",
    "\n",
    "# put document bodies into an array\n",
    "docs = []\n",
    "cont=0\n",
    "for r in response['rows']:\n",
    "    docs.append(r['doc']) # CASO TENHA USADO O NODE-RED E GRAVADO TODO O MSG USE: docs.append(r['doc']['payload'])\n",
    "    cont=cont + 1;\n",
    "type(docs)\n",
    "print(cont)"
   ]
  },
  {
   "cell_type": "code",
   "execution_count": 25,
   "metadata": {},
   "outputs": [
    {
     "data": {
      "text/html": [
       "<div>\n",
       "<style scoped>\n",
       "    .dataframe tbody tr th:only-of-type {\n",
       "        vertical-align: middle;\n",
       "    }\n",
       "\n",
       "    .dataframe tbody tr th {\n",
       "        vertical-align: top;\n",
       "    }\n",
       "\n",
       "    .dataframe thead th {\n",
       "        text-align: right;\n",
       "    }\n",
       "</style>\n",
       "<table border=\"1\" class=\"dataframe\">\n",
       "  <thead>\n",
       "    <tr style=\"text-align: right;\">\n",
       "      <th></th>\n",
       "      <th>_id</th>\n",
       "      <th>_rev</th>\n",
       "      <th>Tempo</th>\n",
       "      <th>Estação</th>\n",
       "      <th>LAT</th>\n",
       "      <th>LONG</th>\n",
       "      <th>Movimentação</th>\n",
       "      <th>Original_473</th>\n",
       "      <th>Original_269</th>\n",
       "      <th>Zero</th>\n",
       "      <th>Maçã-Verde</th>\n",
       "      <th>Tangerina</th>\n",
       "      <th>Citrus</th>\n",
       "      <th>Açaí-Guaraná</th>\n",
       "      <th>Pêssego</th>\n",
       "      <th>TARGET</th>\n",
       "      <th>row</th>\n",
       "    </tr>\n",
       "  </thead>\n",
       "  <tbody>\n",
       "    <tr>\n",
       "      <th>0</th>\n",
       "      <td>000ac62b7850525df9febd4a6700abf7</td>\n",
       "      <td>1-0cdc83e5b5afd13faf298af029d4e472</td>\n",
       "      <td>2019-3-5</td>\n",
       "      <td>Tamanduateí</td>\n",
       "      <td>-23.59290</td>\n",
       "      <td>-46.5897</td>\n",
       "      <td>51490</td>\n",
       "      <td>5</td>\n",
       "      <td>32</td>\n",
       "      <td>51</td>\n",
       "      <td>7</td>\n",
       "      <td>6</td>\n",
       "      <td>8</td>\n",
       "      <td>41</td>\n",
       "      <td>43</td>\n",
       "      <td>REABASTECER</td>\n",
       "      <td>3305</td>\n",
       "    </tr>\n",
       "    <tr>\n",
       "      <th>1</th>\n",
       "      <td>000ac62b7850525df9febd4a670522b3</td>\n",
       "      <td>1-e12dfa30e922dacf448dd30794c45b23</td>\n",
       "      <td>2019-5-8</td>\n",
       "      <td>Tamanduateí</td>\n",
       "      <td>-23.59290</td>\n",
       "      <td>-46.5897</td>\n",
       "      <td>49456</td>\n",
       "      <td>57</td>\n",
       "      <td>19</td>\n",
       "      <td>50</td>\n",
       "      <td>43</td>\n",
       "      <td>8</td>\n",
       "      <td>27</td>\n",
       "      <td>2</td>\n",
       "      <td>14</td>\n",
       "      <td>REABASTECER</td>\n",
       "      <td>3368</td>\n",
       "    </tr>\n",
       "    <tr>\n",
       "      <th>2</th>\n",
       "      <td>000ac62b7850525df9febd4a6708cb78</td>\n",
       "      <td>1-af4708895781723f9742a350f1a50cd9</td>\n",
       "      <td>2018-3-8</td>\n",
       "      <td>Trianon-Masp</td>\n",
       "      <td>-23.5634</td>\n",
       "      <td>-46.6544</td>\n",
       "      <td>42826</td>\n",
       "      <td>48</td>\n",
       "      <td>38</td>\n",
       "      <td>56</td>\n",
       "      <td>17</td>\n",
       "      <td>40</td>\n",
       "      <td>4</td>\n",
       "      <td>26</td>\n",
       "      <td>28</td>\n",
       "      <td>REABASTECER</td>\n",
       "      <td>1508</td>\n",
       "    </tr>\n",
       "    <tr>\n",
       "      <th>3</th>\n",
       "      <td>000ac62b7850525df9febd4a670f2050</td>\n",
       "      <td>1-a72d3ef88ffb5c2f4af0ae7b334d8fbd</td>\n",
       "      <td>2019-3-22</td>\n",
       "      <td>Sé</td>\n",
       "      <td>-23.55</td>\n",
       "      <td>-46.6333</td>\n",
       "      <td>191530</td>\n",
       "      <td>6</td>\n",
       "      <td>40</td>\n",
       "      <td>65</td>\n",
       "      <td>36</td>\n",
       "      <td>31</td>\n",
       "      <td>40</td>\n",
       "      <td>14</td>\n",
       "      <td>26</td>\n",
       "      <td>REABASTECER</td>\n",
       "      <td>4042</td>\n",
       "    </tr>\n",
       "    <tr>\n",
       "      <th>4</th>\n",
       "      <td>000ac62b7850525df9febd4a670f3db6</td>\n",
       "      <td>1-f01e4342f7ba8544202c98fd9e348332</td>\n",
       "      <td>2019-3-25</td>\n",
       "      <td>Sé</td>\n",
       "      <td>-23.55</td>\n",
       "      <td>-46.6333</td>\n",
       "      <td>195050</td>\n",
       "      <td>60</td>\n",
       "      <td>17</td>\n",
       "      <td>50</td>\n",
       "      <td>24</td>\n",
       "      <td>16</td>\n",
       "      <td>29</td>\n",
       "      <td>3</td>\n",
       "      <td>13</td>\n",
       "      <td>REABASTECER</td>\n",
       "      <td>4045</td>\n",
       "    </tr>\n",
       "  </tbody>\n",
       "</table>\n",
       "</div>"
      ],
      "text/plain": [
       "                                _id                                _rev  \\\n",
       "0  000ac62b7850525df9febd4a6700abf7  1-0cdc83e5b5afd13faf298af029d4e472   \n",
       "1  000ac62b7850525df9febd4a670522b3  1-e12dfa30e922dacf448dd30794c45b23   \n",
       "2  000ac62b7850525df9febd4a6708cb78  1-af4708895781723f9742a350f1a50cd9   \n",
       "3  000ac62b7850525df9febd4a670f2050  1-a72d3ef88ffb5c2f4af0ae7b334d8fbd   \n",
       "4  000ac62b7850525df9febd4a670f3db6  1-f01e4342f7ba8544202c98fd9e348332   \n",
       "\n",
       "       Tempo       Estação        LAT      LONG Movimentação Original_473  \\\n",
       "0   2019-3-5   Tamanduateí  -23.59290  -46.5897        51490            5   \n",
       "1   2019-5-8   Tamanduateí  -23.59290  -46.5897        49456           57   \n",
       "2   2018-3-8  Trianon-Masp   -23.5634  -46.6544        42826           48   \n",
       "3  2019-3-22            Sé     -23.55  -46.6333       191530            6   \n",
       "4  2019-3-25            Sé     -23.55  -46.6333       195050           60   \n",
       "\n",
       "  Original_269 Zero Maçã-Verde Tangerina Citrus Açaí-Guaraná Pêssego  \\\n",
       "0           32   51          7         6      8           41      43   \n",
       "1           19   50         43         8     27            2      14   \n",
       "2           38   56         17        40      4           26      28   \n",
       "3           40   65         36        31     40           14      26   \n",
       "4           17   50         24        16     29            3      13   \n",
       "\n",
       "        TARGET   row  \n",
       "0  REABASTECER  3305  \n",
       "1  REABASTECER  3368  \n",
       "2  REABASTECER  1508  \n",
       "3  REABASTECER  4042  \n",
       "4  REABASTECER  4045  "
      ]
     },
     "execution_count": 25,
     "metadata": {},
     "output_type": "execute_result"
    }
   ],
   "source": [
    "# create a Pandas dataframe containing the data\n",
    "import pandas as pd\n",
    "df = pd.DataFrame(data=docs)\n",
    "df.head()"
   ]
  },
  {
   "cell_type": "code",
   "execution_count": 26,
   "metadata": {},
   "outputs": [
    {
     "name": "stdout",
     "output_type": "stream",
     "text": [
      "<class 'pandas.core.frame.DataFrame'>\n",
      "RangeIndex: 40565 entries, 0 to 40564\n",
      "Data columns (total 17 columns):\n",
      " #   Column        Non-Null Count  Dtype \n",
      "---  ------        --------------  ----- \n",
      " 0   _id           40565 non-null  object\n",
      " 1   _rev          40565 non-null  object\n",
      " 2   Tempo         40565 non-null  object\n",
      " 3   Estação       40565 non-null  object\n",
      " 4   LAT           40565 non-null  object\n",
      " 5   LONG          40565 non-null  object\n",
      " 6   Movimentação  40565 non-null  object\n",
      " 7   Original_473  40565 non-null  object\n",
      " 8   Original_269  40565 non-null  object\n",
      " 9   Zero          40565 non-null  object\n",
      " 10  Maçã-Verde    40565 non-null  object\n",
      " 11  Tangerina     40565 non-null  object\n",
      " 12  Citrus        40565 non-null  object\n",
      " 13  Açaí-Guaraná  40565 non-null  object\n",
      " 14  Pêssego       40565 non-null  object\n",
      " 15  TARGET        40565 non-null  object\n",
      " 16  row           40565 non-null  int64 \n",
      "dtypes: int64(1), object(16)\n",
      "memory usage: 5.3+ MB\n"
     ]
    }
   ],
   "source": [
    "df.info()"
   ]
  },
  {
   "cell_type": "code",
   "execution_count": null,
   "metadata": {},
   "outputs": [],
   "source": [
    "#teste exemplo GAMA\n",
    "#import pixiedust\n",
    "#display(df)"
   ]
  },
  {
   "cell_type": "code",
   "execution_count": 27,
   "metadata": {},
   "outputs": [],
   "source": [
    "#Salvar dataframe como CSV \n",
    "df.to_csv('base_40mil.csv')"
   ]
  },
  {
   "cell_type": "code",
   "execution_count": null,
   "metadata": {},
   "outputs": [],
   "source": []
  },
  {
   "cell_type": "markdown",
   "metadata": {},
   "source": [
    "## Download dos conjuntos de dados em formato .csv"
   ]
  },
  {
   "cell_type": "code",
   "execution_count": 34,
   "metadata": {},
   "outputs": [],
   "source": [
    "import pandas as pd"
   ]
  },
  {
   "cell_type": "code",
   "execution_count": 35,
   "metadata": {},
   "outputs": [],
   "source": [
    "# Insira aqui o pandasDataFrame.\n",
    "df_data_1=pd.read_csv(\"base_40mil.csv\")"
   ]
  },
  {
   "cell_type": "code",
   "execution_count": 36,
   "metadata": {},
   "outputs": [
    {
     "data": {
      "text/html": [
       "<div>\n",
       "<style scoped>\n",
       "    .dataframe tbody tr th:only-of-type {\n",
       "        vertical-align: middle;\n",
       "    }\n",
       "\n",
       "    .dataframe tbody tr th {\n",
       "        vertical-align: top;\n",
       "    }\n",
       "\n",
       "    .dataframe thead th {\n",
       "        text-align: right;\n",
       "    }\n",
       "</style>\n",
       "<table border=\"1\" class=\"dataframe\">\n",
       "  <thead>\n",
       "    <tr style=\"text-align: right;\">\n",
       "      <th></th>\n",
       "      <th>Unnamed: 0</th>\n",
       "      <th>_id</th>\n",
       "      <th>_rev</th>\n",
       "      <th>Tempo</th>\n",
       "      <th>Estação</th>\n",
       "      <th>LAT</th>\n",
       "      <th>LONG</th>\n",
       "      <th>Movimentação</th>\n",
       "      <th>Original_473</th>\n",
       "      <th>Original_269</th>\n",
       "      <th>Zero</th>\n",
       "      <th>Maçã-Verde</th>\n",
       "      <th>Tangerina</th>\n",
       "      <th>Citrus</th>\n",
       "      <th>Açaí-Guaraná</th>\n",
       "      <th>Pêssego</th>\n",
       "      <th>TARGET</th>\n",
       "      <th>row</th>\n",
       "    </tr>\n",
       "  </thead>\n",
       "  <tbody>\n",
       "    <tr>\n",
       "      <th>40560</th>\n",
       "      <td>40560</td>\n",
       "      <td>ffabfca4d84d1f9b7239d6ae8ee35b31</td>\n",
       "      <td>1-970893568afaa6bfcda765af27c20a25</td>\n",
       "      <td>2018-8-22</td>\n",
       "      <td>Sé</td>\n",
       "      <td>-23.5500</td>\n",
       "      <td>-46.6333</td>\n",
       "      <td>194364</td>\n",
       "      <td>86</td>\n",
       "      <td>8</td>\n",
       "      <td>23</td>\n",
       "      <td>20</td>\n",
       "      <td>39</td>\n",
       "      <td>14</td>\n",
       "      <td>16</td>\n",
       "      <td>31</td>\n",
       "      <td>REABASTECER</td>\n",
       "      <td>3832</td>\n",
       "    </tr>\n",
       "    <tr>\n",
       "      <th>40561</th>\n",
       "      <td>40561</td>\n",
       "      <td>ffabfca4d84d1f9b7239d6ae8eeb067a</td>\n",
       "      <td>1-82d937231c7e23eaf791320d97d7adef</td>\n",
       "      <td>2019-6-14</td>\n",
       "      <td>Barra Funda</td>\n",
       "      <td>-23.5542</td>\n",
       "      <td>-46.6707</td>\n",
       "      <td>150357</td>\n",
       "      <td>4</td>\n",
       "      <td>65</td>\n",
       "      <td>52</td>\n",
       "      <td>29</td>\n",
       "      <td>36</td>\n",
       "      <td>29</td>\n",
       "      <td>35</td>\n",
       "      <td>19</td>\n",
       "      <td>NORMAL</td>\n",
       "      <td>5564</td>\n",
       "    </tr>\n",
       "    <tr>\n",
       "      <th>40562</th>\n",
       "      <td>40562</td>\n",
       "      <td>ffabfca4d84d1f9b7239d6ae8ef2cc9f</td>\n",
       "      <td>1-7ece9600a7418c6a4c127f623ef311f3</td>\n",
       "      <td>2019-7-4</td>\n",
       "      <td>Higienópolis-Mackenzie</td>\n",
       "      <td>-23.5488</td>\n",
       "      <td>-46.6519</td>\n",
       "      <td>92852</td>\n",
       "      <td>77</td>\n",
       "      <td>49</td>\n",
       "      <td>65</td>\n",
       "      <td>12</td>\n",
       "      <td>43</td>\n",
       "      <td>35</td>\n",
       "      <td>43</td>\n",
       "      <td>43</td>\n",
       "      <td>NORMAL</td>\n",
       "      <td>7744</td>\n",
       "    </tr>\n",
       "    <tr>\n",
       "      <th>40563</th>\n",
       "      <td>40563</td>\n",
       "      <td>ffabfca4d84d1f9b7239d6ae8ef67775</td>\n",
       "      <td>1-a56e2da37b4f6049a82915c9fed64c50</td>\n",
       "      <td>2019-12-3</td>\n",
       "      <td>Barra Funda</td>\n",
       "      <td>-23.5542</td>\n",
       "      <td>-46.6707</td>\n",
       "      <td>150110</td>\n",
       "      <td>65</td>\n",
       "      <td>47</td>\n",
       "      <td>65</td>\n",
       "      <td>10</td>\n",
       "      <td>14</td>\n",
       "      <td>28</td>\n",
       "      <td>4</td>\n",
       "      <td>22</td>\n",
       "      <td>REABASTECER</td>\n",
       "      <td>5733</td>\n",
       "    </tr>\n",
       "    <tr>\n",
       "      <th>40564</th>\n",
       "      <td>40564</td>\n",
       "      <td>ffabfca4d84d1f9b7239d6ae8ef87e4b</td>\n",
       "      <td>1-f4ff58adce877e97839eab1f7c579529</td>\n",
       "      <td>2019-6-19</td>\n",
       "      <td>Sé</td>\n",
       "      <td>-23.5500</td>\n",
       "      <td>-46.6333</td>\n",
       "      <td>192726</td>\n",
       "      <td>74</td>\n",
       "      <td>31</td>\n",
       "      <td>25</td>\n",
       "      <td>29</td>\n",
       "      <td>12</td>\n",
       "      <td>43</td>\n",
       "      <td>8</td>\n",
       "      <td>4</td>\n",
       "      <td>REABASTECER</td>\n",
       "      <td>4129</td>\n",
       "    </tr>\n",
       "  </tbody>\n",
       "</table>\n",
       "</div>"
      ],
      "text/plain": [
       "       Unnamed: 0                               _id  \\\n",
       "40560       40560  ffabfca4d84d1f9b7239d6ae8ee35b31   \n",
       "40561       40561  ffabfca4d84d1f9b7239d6ae8eeb067a   \n",
       "40562       40562  ffabfca4d84d1f9b7239d6ae8ef2cc9f   \n",
       "40563       40563  ffabfca4d84d1f9b7239d6ae8ef67775   \n",
       "40564       40564  ffabfca4d84d1f9b7239d6ae8ef87e4b   \n",
       "\n",
       "                                     _rev      Tempo                 Estação  \\\n",
       "40560  1-970893568afaa6bfcda765af27c20a25  2018-8-22                      Sé   \n",
       "40561  1-82d937231c7e23eaf791320d97d7adef  2019-6-14             Barra Funda   \n",
       "40562  1-7ece9600a7418c6a4c127f623ef311f3   2019-7-4  Higienópolis-Mackenzie   \n",
       "40563  1-a56e2da37b4f6049a82915c9fed64c50  2019-12-3             Barra Funda   \n",
       "40564  1-f4ff58adce877e97839eab1f7c579529  2019-6-19                      Sé   \n",
       "\n",
       "           LAT     LONG  Movimentação  Original_473  Original_269  Zero  \\\n",
       "40560 -23.5500 -46.6333        194364            86             8    23   \n",
       "40561 -23.5542 -46.6707        150357             4            65    52   \n",
       "40562 -23.5488 -46.6519         92852            77            49    65   \n",
       "40563 -23.5542 -46.6707        150110            65            47    65   \n",
       "40564 -23.5500 -46.6333        192726            74            31    25   \n",
       "\n",
       "       Maçã-Verde  Tangerina  Citrus  Açaí-Guaraná  Pêssego       TARGET   row  \n",
       "40560          20         39      14            16       31  REABASTECER  3832  \n",
       "40561          29         36      29            35       19       NORMAL  5564  \n",
       "40562          12         43      35            43       43       NORMAL  7744  \n",
       "40563          10         14      28             4       22  REABASTECER  5733  \n",
       "40564          29         12      43             8        4  REABASTECER  4129  "
      ]
     },
     "execution_count": 36,
     "metadata": {},
     "output_type": "execute_result"
    }
   ],
   "source": [
    "df_training_dataset = df_data_1\n",
    "df_training_dataset.tail()"
   ]
  },
  {
   "cell_type": "markdown",
   "metadata": {},
   "source": [
    "Sobre o arquivo \"training_dataset.csv\", temos algumas informações gerais sobre os pontos de vendas da TNT:\n",
    "\n",
    "**Tempo**\n",
    "\n",
    "**Estação**\n",
    "\n",
    "**LAT**\n",
    "\n",
    "**LONG**\n",
    "\n",
    "**Movimentação**\n",
    "\n",
    "**Original_473**\n",
    "\n",
    "**Original_269**\n",
    "\n",
    "**Zero**\n",
    "\n",
    "**Maçã-Verde**\n",
    "\n",
    "**Tangerina**\n",
    "\n",
    "**Citrus**\n",
    "\n",
    "**Açaí-Guaraná**\n",
    "\n",
    "**Pêssego**\n",
    "\n",
    "**TARGET**"
   ]
  },
  {
   "cell_type": "code",
   "execution_count": 37,
   "metadata": {},
   "outputs": [
    {
     "name": "stdout",
     "output_type": "stream",
     "text": [
      "<class 'pandas.core.frame.DataFrame'>\n",
      "RangeIndex: 40565 entries, 0 to 40564\n",
      "Data columns (total 18 columns):\n",
      " #   Column        Non-Null Count  Dtype  \n",
      "---  ------        --------------  -----  \n",
      " 0   Unnamed: 0    40565 non-null  int64  \n",
      " 1   _id           40565 non-null  object \n",
      " 2   _rev          40565 non-null  object \n",
      " 3   Tempo         40565 non-null  object \n",
      " 4   Estação       40565 non-null  object \n",
      " 5   LAT           40565 non-null  float64\n",
      " 6   LONG          40565 non-null  float64\n",
      " 7   Movimentação  40565 non-null  int64  \n",
      " 8   Original_473  40565 non-null  int64  \n",
      " 9   Original_269  40565 non-null  int64  \n",
      " 10  Zero          40565 non-null  int64  \n",
      " 11  Maçã-Verde    40565 non-null  int64  \n",
      " 12  Tangerina     40565 non-null  int64  \n",
      " 13  Citrus        40565 non-null  int64  \n",
      " 14  Açaí-Guaraná  40565 non-null  int64  \n",
      " 15  Pêssego       40565 non-null  int64  \n",
      " 16  TARGET        40565 non-null  object \n",
      " 17  row           40565 non-null  int64  \n",
      "dtypes: float64(2), int64(11), object(5)\n",
      "memory usage: 5.6+ MB\n"
     ]
    }
   ],
   "source": [
    "df_training_dataset.info()"
   ]
  },
  {
   "cell_type": "code",
   "execution_count": 38,
   "metadata": {},
   "outputs": [
    {
     "data": {
      "text/plain": [
       "Unnamed: 0      40565\n",
       "_id             40565\n",
       "_rev            15581\n",
       "Tempo             720\n",
       "Estação            25\n",
       "LAT                25\n",
       "LONG               25\n",
       "Movimentação    13755\n",
       "Original_473       81\n",
       "Original_269       65\n",
       "Zero               63\n",
       "Maçã-Verde         43\n",
       "Tangerina          42\n",
       "Citrus             43\n",
       "Açaí-Guaraná       42\n",
       "Pêssego            42\n",
       "TARGET              2\n",
       "row             15581\n",
       "dtype: int64"
      ]
     },
     "execution_count": 38,
     "metadata": {},
     "output_type": "execute_result"
    }
   ],
   "source": [
    "df_training_dataset.nunique()"
   ]
  },
  {
   "cell_type": "code",
   "execution_count": null,
   "metadata": {},
   "outputs": [],
   "source": []
  },
  {
   "cell_type": "markdown",
   "metadata": {},
   "source": [
    "## Pre-processando o dataset antes do treinamento"
   ]
  },
  {
   "cell_type": "markdown",
   "metadata": {},
   "source": [
    "### Processando valores NaN com o SimpleImputer do sklearn\n",
    "\n",
    "Para os valores NaN, usaremos a substituição pela constante 0 como **exemplo**.\n",
    "\n",
    "Você pode escolher a estratégia que achar melhor para tratar os valores nulos :)\n",
    "\n",
    "Docs: https://scikit-learn.org/stable/modules/generated/sklearn.impute.SimpleImputer.html?highlight=simpleimputer#sklearn.impute.SimpleImputer"
   ]
  },
  {
   "cell_type": "code",
   "execution_count": 39,
   "metadata": {},
   "outputs": [],
   "source": [
    "from sklearn.impute import SimpleImputer\n",
    "import numpy as np\n",
    "\n",
    "\n",
    "impute_zeros = SimpleImputer(\n",
    "    missing_values=np.nan,\n",
    "    strategy='constant',\n",
    "    fill_value=0,\n",
    "    verbose=0,\n",
    "    copy=True\n",
    ")"
   ]
  },
  {
   "cell_type": "code",
   "execution_count": 40,
   "metadata": {},
   "outputs": [
    {
     "name": "stdout",
     "output_type": "stream",
     "text": [
      "Valores nulos no df_training_dataset antes da transformação SimpleImputer: \n",
      "\n",
      "Unnamed: 0      0\n",
      "_id             0\n",
      "_rev            0\n",
      "Tempo           0\n",
      "Estação         0\n",
      "LAT             0\n",
      "LONG            0\n",
      "Movimentação    0\n",
      "Original_473    0\n",
      "Original_269    0\n",
      "Zero            0\n",
      "Maçã-Verde      0\n",
      "Tangerina       0\n",
      "Citrus          0\n",
      "Açaí-Guaraná    0\n",
      "Pêssego         0\n",
      "TARGET          0\n",
      "row             0\n",
      "dtype: int64\n",
      "\n",
      "Valores nulos no df_training_dataset após a transformação SimpleImputer: \n",
      "\n",
      "Unnamed: 0      0\n",
      "_id             0\n",
      "_rev            0\n",
      "Tempo           0\n",
      "Estação         0\n",
      "LAT             0\n",
      "LONG            0\n",
      "Movimentação    0\n",
      "Original_473    0\n",
      "Original_269    0\n",
      "Zero            0\n",
      "Maçã-Verde      0\n",
      "Tangerina       0\n",
      "Citrus          0\n",
      "Açaí-Guaraná    0\n",
      "Pêssego         0\n",
      "TARGET          0\n",
      "row             0\n",
      "dtype: int64\n",
      "\n"
     ]
    }
   ],
   "source": [
    "# Exibindo os dados ausentes do conjunto de dados antes da primeira transformação (df)\n",
    "print(\"Valores nulos no df_training_dataset antes da transformação SimpleImputer: \\n\\n{}\\n\".format(df_training_dataset.isnull().sum(axis = 0)))\n",
    "\n",
    "# Aplicando a transformação ``SimpleImputer`` no conjunto de dados base\n",
    "impute_zeros.fit(X=df_training_dataset)\n",
    "\n",
    "# Reconstruindo um Pandas DataFrame com os resultados\n",
    "df_training_dataset_imputed = pd.DataFrame.from_records(\n",
    "    data=impute_zeros.transform(\n",
    "        X=df_training_dataset\n",
    "    ),\n",
    "    columns=df_training_dataset.columns\n",
    ")\n",
    "\n",
    "# Exibindo os dados ausentes do conjunto de dados após a primeira transformação (df)\n",
    "print(\"Valores nulos no df_training_dataset após a transformação SimpleImputer: \\n\\n{}\\n\".format(df_training_dataset_imputed.isnull().sum(axis = 0)))"
   ]
  },
  {
   "cell_type": "markdown",
   "metadata": {},
   "source": [
    "### Eliminando colunas indesejadas\n",
    "\n",
    "Vamos **demonstrar** abaixo como usar o método **DataFrame.drop()**.\n",
    "\n",
    "Docs: https://pandas.pydata.org/pandas-docs/stable/reference/api/pandas.DataFrame.drop.html"
   ]
  },
  {
   "cell_type": "code",
   "execution_count": 41,
   "metadata": {},
   "outputs": [
    {
     "data": {
      "text/html": [
       "<div>\n",
       "<style scoped>\n",
       "    .dataframe tbody tr th:only-of-type {\n",
       "        vertical-align: middle;\n",
       "    }\n",
       "\n",
       "    .dataframe tbody tr th {\n",
       "        vertical-align: top;\n",
       "    }\n",
       "\n",
       "    .dataframe thead th {\n",
       "        text-align: right;\n",
       "    }\n",
       "</style>\n",
       "<table border=\"1\" class=\"dataframe\">\n",
       "  <thead>\n",
       "    <tr style=\"text-align: right;\">\n",
       "      <th></th>\n",
       "      <th>Unnamed: 0</th>\n",
       "      <th>_id</th>\n",
       "      <th>_rev</th>\n",
       "      <th>Tempo</th>\n",
       "      <th>Estação</th>\n",
       "      <th>LAT</th>\n",
       "      <th>LONG</th>\n",
       "      <th>Movimentação</th>\n",
       "      <th>Original_473</th>\n",
       "      <th>Original_269</th>\n",
       "      <th>Zero</th>\n",
       "      <th>Maçã-Verde</th>\n",
       "      <th>Tangerina</th>\n",
       "      <th>Citrus</th>\n",
       "      <th>Açaí-Guaraná</th>\n",
       "      <th>Pêssego</th>\n",
       "      <th>TARGET</th>\n",
       "      <th>row</th>\n",
       "    </tr>\n",
       "  </thead>\n",
       "  <tbody>\n",
       "    <tr>\n",
       "      <th>40560</th>\n",
       "      <td>40560</td>\n",
       "      <td>ffabfca4d84d1f9b7239d6ae8ee35b31</td>\n",
       "      <td>1-970893568afaa6bfcda765af27c20a25</td>\n",
       "      <td>2018-8-22</td>\n",
       "      <td>Sé</td>\n",
       "      <td>-23.5500</td>\n",
       "      <td>-46.6333</td>\n",
       "      <td>194364</td>\n",
       "      <td>86</td>\n",
       "      <td>8</td>\n",
       "      <td>23</td>\n",
       "      <td>20</td>\n",
       "      <td>39</td>\n",
       "      <td>14</td>\n",
       "      <td>16</td>\n",
       "      <td>31</td>\n",
       "      <td>REABASTECER</td>\n",
       "      <td>3832</td>\n",
       "    </tr>\n",
       "    <tr>\n",
       "      <th>40561</th>\n",
       "      <td>40561</td>\n",
       "      <td>ffabfca4d84d1f9b7239d6ae8eeb067a</td>\n",
       "      <td>1-82d937231c7e23eaf791320d97d7adef</td>\n",
       "      <td>2019-6-14</td>\n",
       "      <td>Barra Funda</td>\n",
       "      <td>-23.5542</td>\n",
       "      <td>-46.6707</td>\n",
       "      <td>150357</td>\n",
       "      <td>4</td>\n",
       "      <td>65</td>\n",
       "      <td>52</td>\n",
       "      <td>29</td>\n",
       "      <td>36</td>\n",
       "      <td>29</td>\n",
       "      <td>35</td>\n",
       "      <td>19</td>\n",
       "      <td>NORMAL</td>\n",
       "      <td>5564</td>\n",
       "    </tr>\n",
       "    <tr>\n",
       "      <th>40562</th>\n",
       "      <td>40562</td>\n",
       "      <td>ffabfca4d84d1f9b7239d6ae8ef2cc9f</td>\n",
       "      <td>1-7ece9600a7418c6a4c127f623ef311f3</td>\n",
       "      <td>2019-7-4</td>\n",
       "      <td>Higienópolis-Mackenzie</td>\n",
       "      <td>-23.5488</td>\n",
       "      <td>-46.6519</td>\n",
       "      <td>92852</td>\n",
       "      <td>77</td>\n",
       "      <td>49</td>\n",
       "      <td>65</td>\n",
       "      <td>12</td>\n",
       "      <td>43</td>\n",
       "      <td>35</td>\n",
       "      <td>43</td>\n",
       "      <td>43</td>\n",
       "      <td>NORMAL</td>\n",
       "      <td>7744</td>\n",
       "    </tr>\n",
       "    <tr>\n",
       "      <th>40563</th>\n",
       "      <td>40563</td>\n",
       "      <td>ffabfca4d84d1f9b7239d6ae8ef67775</td>\n",
       "      <td>1-a56e2da37b4f6049a82915c9fed64c50</td>\n",
       "      <td>2019-12-3</td>\n",
       "      <td>Barra Funda</td>\n",
       "      <td>-23.5542</td>\n",
       "      <td>-46.6707</td>\n",
       "      <td>150110</td>\n",
       "      <td>65</td>\n",
       "      <td>47</td>\n",
       "      <td>65</td>\n",
       "      <td>10</td>\n",
       "      <td>14</td>\n",
       "      <td>28</td>\n",
       "      <td>4</td>\n",
       "      <td>22</td>\n",
       "      <td>REABASTECER</td>\n",
       "      <td>5733</td>\n",
       "    </tr>\n",
       "    <tr>\n",
       "      <th>40564</th>\n",
       "      <td>40564</td>\n",
       "      <td>ffabfca4d84d1f9b7239d6ae8ef87e4b</td>\n",
       "      <td>1-f4ff58adce877e97839eab1f7c579529</td>\n",
       "      <td>2019-6-19</td>\n",
       "      <td>Sé</td>\n",
       "      <td>-23.5500</td>\n",
       "      <td>-46.6333</td>\n",
       "      <td>192726</td>\n",
       "      <td>74</td>\n",
       "      <td>31</td>\n",
       "      <td>25</td>\n",
       "      <td>29</td>\n",
       "      <td>12</td>\n",
       "      <td>43</td>\n",
       "      <td>8</td>\n",
       "      <td>4</td>\n",
       "      <td>REABASTECER</td>\n",
       "      <td>4129</td>\n",
       "    </tr>\n",
       "  </tbody>\n",
       "</table>\n",
       "</div>"
      ],
      "text/plain": [
       "       Unnamed: 0                               _id  \\\n",
       "40560       40560  ffabfca4d84d1f9b7239d6ae8ee35b31   \n",
       "40561       40561  ffabfca4d84d1f9b7239d6ae8eeb067a   \n",
       "40562       40562  ffabfca4d84d1f9b7239d6ae8ef2cc9f   \n",
       "40563       40563  ffabfca4d84d1f9b7239d6ae8ef67775   \n",
       "40564       40564  ffabfca4d84d1f9b7239d6ae8ef87e4b   \n",
       "\n",
       "                                     _rev      Tempo                 Estação  \\\n",
       "40560  1-970893568afaa6bfcda765af27c20a25  2018-8-22                      Sé   \n",
       "40561  1-82d937231c7e23eaf791320d97d7adef  2019-6-14             Barra Funda   \n",
       "40562  1-7ece9600a7418c6a4c127f623ef311f3   2019-7-4  Higienópolis-Mackenzie   \n",
       "40563  1-a56e2da37b4f6049a82915c9fed64c50  2019-12-3             Barra Funda   \n",
       "40564  1-f4ff58adce877e97839eab1f7c579529  2019-6-19                      Sé   \n",
       "\n",
       "           LAT     LONG  Movimentação  Original_473  Original_269  Zero  \\\n",
       "40560 -23.5500 -46.6333        194364            86             8    23   \n",
       "40561 -23.5542 -46.6707        150357             4            65    52   \n",
       "40562 -23.5488 -46.6519         92852            77            49    65   \n",
       "40563 -23.5542 -46.6707        150110            65            47    65   \n",
       "40564 -23.5500 -46.6333        192726            74            31    25   \n",
       "\n",
       "       Maçã-Verde  Tangerina  Citrus  Açaí-Guaraná  Pêssego       TARGET   row  \n",
       "40560          20         39      14            16       31  REABASTECER  3832  \n",
       "40561          29         36      29            35       19       NORMAL  5564  \n",
       "40562          12         43      35            43       43       NORMAL  7744  \n",
       "40563          10         14      28             4       22  REABASTECER  5733  \n",
       "40564          29         12      43             8        4  REABASTECER  4129  "
      ]
     },
     "execution_count": 41,
     "metadata": {},
     "output_type": "execute_result"
    }
   ],
   "source": [
    "df_training_dataset_imputed.tail()"
   ]
  },
  {
   "cell_type": "code",
   "execution_count": 42,
   "metadata": {},
   "outputs": [],
   "source": [
    "#Tirando duplicados \n",
    "df_training_duplicate = df_training_dataset_imputed.drop_duplicates(subset=['row'])"
   ]
  },
  {
   "cell_type": "code",
   "execution_count": 43,
   "metadata": {},
   "outputs": [],
   "source": [
    "df_training_dataset_rmcolumns = df_training_duplicate .drop(columns=['Unnamed: 0','_id','_rev','Tempo','Estação', 'Movimentação','LAT', 'LONG','row'], inplace=False)"
   ]
  },
  {
   "cell_type": "code",
   "execution_count": 44,
   "metadata": {},
   "outputs": [
    {
     "data": {
      "text/html": [
       "<div>\n",
       "<style scoped>\n",
       "    .dataframe tbody tr th:only-of-type {\n",
       "        vertical-align: middle;\n",
       "    }\n",
       "\n",
       "    .dataframe tbody tr th {\n",
       "        vertical-align: top;\n",
       "    }\n",
       "\n",
       "    .dataframe thead th {\n",
       "        text-align: right;\n",
       "    }\n",
       "</style>\n",
       "<table border=\"1\" class=\"dataframe\">\n",
       "  <thead>\n",
       "    <tr style=\"text-align: right;\">\n",
       "      <th></th>\n",
       "      <th>Original_473</th>\n",
       "      <th>Original_269</th>\n",
       "      <th>Zero</th>\n",
       "      <th>Maçã-Verde</th>\n",
       "      <th>Tangerina</th>\n",
       "      <th>Citrus</th>\n",
       "      <th>Açaí-Guaraná</th>\n",
       "      <th>Pêssego</th>\n",
       "      <th>TARGET</th>\n",
       "    </tr>\n",
       "  </thead>\n",
       "  <tbody>\n",
       "    <tr>\n",
       "      <th>40541</th>\n",
       "      <td>86</td>\n",
       "      <td>50</td>\n",
       "      <td>51</td>\n",
       "      <td>43</td>\n",
       "      <td>3</td>\n",
       "      <td>23</td>\n",
       "      <td>25</td>\n",
       "      <td>26</td>\n",
       "      <td>REABASTECER</td>\n",
       "    </tr>\n",
       "    <tr>\n",
       "      <th>40545</th>\n",
       "      <td>42</td>\n",
       "      <td>17</td>\n",
       "      <td>17</td>\n",
       "      <td>35</td>\n",
       "      <td>25</td>\n",
       "      <td>14</td>\n",
       "      <td>3</td>\n",
       "      <td>7</td>\n",
       "      <td>REABASTECER</td>\n",
       "    </tr>\n",
       "    <tr>\n",
       "      <th>40554</th>\n",
       "      <td>13</td>\n",
       "      <td>40</td>\n",
       "      <td>34</td>\n",
       "      <td>21</td>\n",
       "      <td>19</td>\n",
       "      <td>4</td>\n",
       "      <td>12</td>\n",
       "      <td>8</td>\n",
       "      <td>NORMAL</td>\n",
       "    </tr>\n",
       "    <tr>\n",
       "      <th>40555</th>\n",
       "      <td>13</td>\n",
       "      <td>17</td>\n",
       "      <td>48</td>\n",
       "      <td>9</td>\n",
       "      <td>12</td>\n",
       "      <td>17</td>\n",
       "      <td>24</td>\n",
       "      <td>27</td>\n",
       "      <td>NORMAL</td>\n",
       "    </tr>\n",
       "    <tr>\n",
       "      <th>40559</th>\n",
       "      <td>78</td>\n",
       "      <td>36</td>\n",
       "      <td>65</td>\n",
       "      <td>31</td>\n",
       "      <td>5</td>\n",
       "      <td>8</td>\n",
       "      <td>14</td>\n",
       "      <td>18</td>\n",
       "      <td>REABASTECER</td>\n",
       "    </tr>\n",
       "  </tbody>\n",
       "</table>\n",
       "</div>"
      ],
      "text/plain": [
       "       Original_473  Original_269  Zero  Maçã-Verde  Tangerina  Citrus  \\\n",
       "40541            86            50    51          43          3      23   \n",
       "40545            42            17    17          35         25      14   \n",
       "40554            13            40    34          21         19       4   \n",
       "40555            13            17    48           9         12      17   \n",
       "40559            78            36    65          31          5       8   \n",
       "\n",
       "       Açaí-Guaraná  Pêssego       TARGET  \n",
       "40541            25       26  REABASTECER  \n",
       "40545             3        7  REABASTECER  \n",
       "40554            12        8       NORMAL  \n",
       "40555            24       27       NORMAL  \n",
       "40559            14       18  REABASTECER  "
      ]
     },
     "execution_count": 44,
     "metadata": {},
     "output_type": "execute_result"
    }
   ],
   "source": [
    "df_training_dataset_rmcolumns.tail()"
   ]
  },
  {
   "cell_type": "code",
   "execution_count": 45,
   "metadata": {},
   "outputs": [
    {
     "data": {
      "text/html": [
       "<div>\n",
       "<style scoped>\n",
       "    .dataframe tbody tr th:only-of-type {\n",
       "        vertical-align: middle;\n",
       "    }\n",
       "\n",
       "    .dataframe tbody tr th {\n",
       "        vertical-align: top;\n",
       "    }\n",
       "\n",
       "    .dataframe thead th {\n",
       "        text-align: right;\n",
       "    }\n",
       "</style>\n",
       "<table border=\"1\" class=\"dataframe\">\n",
       "  <thead>\n",
       "    <tr style=\"text-align: right;\">\n",
       "      <th></th>\n",
       "      <th>Original_473</th>\n",
       "      <th>Original_269</th>\n",
       "      <th>Zero</th>\n",
       "      <th>Maçã-Verde</th>\n",
       "      <th>Tangerina</th>\n",
       "      <th>Citrus</th>\n",
       "      <th>Açaí-Guaraná</th>\n",
       "      <th>Pêssego</th>\n",
       "      <th>TARGET</th>\n",
       "    </tr>\n",
       "  </thead>\n",
       "  <tbody>\n",
       "    <tr>\n",
       "      <th>40541</th>\n",
       "      <td>86</td>\n",
       "      <td>50</td>\n",
       "      <td>51</td>\n",
       "      <td>43</td>\n",
       "      <td>3</td>\n",
       "      <td>23</td>\n",
       "      <td>25</td>\n",
       "      <td>26</td>\n",
       "      <td>REABASTECER</td>\n",
       "    </tr>\n",
       "    <tr>\n",
       "      <th>40545</th>\n",
       "      <td>42</td>\n",
       "      <td>17</td>\n",
       "      <td>17</td>\n",
       "      <td>35</td>\n",
       "      <td>25</td>\n",
       "      <td>14</td>\n",
       "      <td>3</td>\n",
       "      <td>7</td>\n",
       "      <td>REABASTECER</td>\n",
       "    </tr>\n",
       "    <tr>\n",
       "      <th>40554</th>\n",
       "      <td>13</td>\n",
       "      <td>40</td>\n",
       "      <td>34</td>\n",
       "      <td>21</td>\n",
       "      <td>19</td>\n",
       "      <td>4</td>\n",
       "      <td>12</td>\n",
       "      <td>8</td>\n",
       "      <td>NORMAL</td>\n",
       "    </tr>\n",
       "    <tr>\n",
       "      <th>40555</th>\n",
       "      <td>13</td>\n",
       "      <td>17</td>\n",
       "      <td>48</td>\n",
       "      <td>9</td>\n",
       "      <td>12</td>\n",
       "      <td>17</td>\n",
       "      <td>24</td>\n",
       "      <td>27</td>\n",
       "      <td>NORMAL</td>\n",
       "    </tr>\n",
       "    <tr>\n",
       "      <th>40559</th>\n",
       "      <td>78</td>\n",
       "      <td>36</td>\n",
       "      <td>65</td>\n",
       "      <td>31</td>\n",
       "      <td>5</td>\n",
       "      <td>8</td>\n",
       "      <td>14</td>\n",
       "      <td>18</td>\n",
       "      <td>REABASTECER</td>\n",
       "    </tr>\n",
       "  </tbody>\n",
       "</table>\n",
       "</div>"
      ],
      "text/plain": [
       "       Original_473  Original_269  Zero  Maçã-Verde  Tangerina  Citrus  \\\n",
       "40541            86            50    51          43          3      23   \n",
       "40545            42            17    17          35         25      14   \n",
       "40554            13            40    34          21         19       4   \n",
       "40555            13            17    48           9         12      17   \n",
       "40559            78            36    65          31          5       8   \n",
       "\n",
       "       Açaí-Guaraná  Pêssego       TARGET  \n",
       "40541            25       26  REABASTECER  \n",
       "40545             3        7  REABASTECER  \n",
       "40554            12        8       NORMAL  \n",
       "40555            24       27       NORMAL  \n",
       "40559            14       18  REABASTECER  "
      ]
     },
     "execution_count": 45,
     "metadata": {},
     "output_type": "execute_result"
    }
   ],
   "source": [
    "df_training_final = df_training_dataset_rmcolumns\n",
    "df_training_final.tail()"
   ]
  },
  {
   "cell_type": "code",
   "execution_count": 46,
   "metadata": {
    "scrolled": true
   },
   "outputs": [
    {
     "name": "stdout",
     "output_type": "stream",
     "text": [
      "<class 'pandas.core.frame.DataFrame'>\n",
      "Int64Index: 15581 entries, 0 to 40559\n",
      "Data columns (total 9 columns):\n",
      " #   Column        Non-Null Count  Dtype \n",
      "---  ------        --------------  ----- \n",
      " 0   Original_473  15581 non-null  int64 \n",
      " 1   Original_269  15581 non-null  int64 \n",
      " 2   Zero          15581 non-null  int64 \n",
      " 3   Maçã-Verde    15581 non-null  int64 \n",
      " 4   Tangerina     15581 non-null  int64 \n",
      " 5   Citrus        15581 non-null  int64 \n",
      " 6   Açaí-Guaraná  15581 non-null  int64 \n",
      " 7   Pêssego       15581 non-null  int64 \n",
      " 8   TARGET        15581 non-null  object\n",
      "dtypes: int64(8), object(1)\n",
      "memory usage: 1.2+ MB\n"
     ]
    }
   ],
   "source": [
    "df_training_final.info()"
   ]
  },
  {
   "cell_type": "markdown",
   "metadata": {},
   "source": [
    "## Realizei algumas visualizações para entender melhor a base de dados"
   ]
  },
  {
   "cell_type": "code",
   "execution_count": 47,
   "metadata": {},
   "outputs": [
    {
     "data": {
      "text/plain": [
       "<matplotlib.axes._subplots.AxesSubplot at 0x1d881d4a160>"
      ]
     },
     "execution_count": 47,
     "metadata": {},
     "output_type": "execute_result"
    },
    {
     "data": {
      "image/png": "[encoded data removed]",
      "text/plain": [
       "<Figure size 2016x288 with 2 Axes>"
      ]
     },
     "metadata": {
      "needs_background": "light"
     },
     "output_type": "display_data"
    }
   ],
   "source": [
    "import matplotlib.pyplot as plt\n",
    "import itertools\n",
    "import seaborn as sns\n",
    "\n",
    "fig, axes = plt.subplots(nrows=1, ncols=2, figsize=(28, 4))\n",
    "\n",
    "sns.countplot(ax=axes[0], x='TARGET', data=df_training_final)\n",
    "sns.countplot(ax=axes[1], x='Pêssego', data=df_training_final)"
   ]
  },
  {
   "cell_type": "markdown",
   "metadata": {},
   "source": [
    "<hr>"
   ]
  },
  {
   "cell_type": "markdown",
   "metadata": {},
   "source": [
    "## Treinando vários classificadores"
   ]
  },
  {
   "cell_type": "markdown",
   "metadata": {},
   "source": [
    "### Selecionando FEATURES e definindo a variável TARGET"
   ]
  },
  {
   "cell_type": "code",
   "execution_count": 48,
   "metadata": {},
   "outputs": [
    {
     "data": {
      "text/plain": [
       "Index(['Original_473', 'Original_269', 'Zero', 'Maçã-Verde', 'Tangerina',\n",
       "       'Citrus', 'Açaí-Guaraná', 'Pêssego', 'TARGET'],\n",
       "      dtype='object')"
      ]
     },
     "execution_count": 48,
     "metadata": {},
     "output_type": "execute_result"
    }
   ],
   "source": [
    "df_training_final.columns"
   ]
  },
  {
   "cell_type": "code",
   "execution_count": 49,
   "metadata": {},
   "outputs": [],
   "source": [
    "features = df_training_final[\n",
    "    [\n",
    "        'Original_473', 'Original_269', 'Zero', 'Maçã-Verde', 'Tangerina',\n",
    "       'Citrus', 'Açaí-Guaraná', 'Pêssego'\n",
    "    ]\n",
    "]\n",
    "target = df_training_final['TARGET']  ## NÃO TROQUE O NOME DA VARIÁVEL TARGET."
   ]
  },
  {
   "cell_type": "code",
   "execution_count": null,
   "metadata": {},
   "outputs": [],
   "source": []
  },
  {
   "cell_type": "markdown",
   "metadata": {},
   "source": [
    "### Dividindo nosso conjunto de dados em conjuntos de treinamento e teste\n",
    "### Como possuimos um desabalancemanto da base utilizeo o smote. Lembrando que o ideal seria utilizar o smote apenas no X e Y de treino. \n",
    "### Neste caso decidi treinar 90% da base para conseguir um reinamento mais consistente, assim a acurácia , f1 score etc são o caminho mas não o final. Apenas soube se funcionou depois do resultado da maratona"
   ]
  },
  {
   "cell_type": "code",
   "execution_count": 50,
   "metadata": {},
   "outputs": [],
   "source": [
    "#Smote\n",
    "import imblearn\n",
    "from imblearn.over_sampling import SMOTE\n",
    "\n",
    "oversample = SMOTE()\n",
    "X, y = oversample.fit_resample(features, target)"
   ]
  },
  {
   "cell_type": "code",
   "execution_count": 51,
   "metadata": {},
   "outputs": [],
   "source": [
    "from sklearn.model_selection import train_test_split\n",
    "\n",
    "X_train, X_test, y_train, y_test = train_test_split(X, y, test_size=0.1, random_state=133)"
   ]
  },
  {
   "cell_type": "markdown",
   "metadata": {},
   "source": [
    "### Treinando uma árvore de decisão"
   ]
  },
  {
   "cell_type": "code",
   "execution_count": 56,
   "metadata": {},
   "outputs": [],
   "source": [
    "# Método para criar um árvore de decisão\n",
    "from sklearn.tree import DecisionTreeClassifier\n",
    "import urllib\n",
    "import random \n",
    "from sklearn.svm import SVC\n",
    "from sklearn.model_selection import GridSearchCV\n",
    "from xgboost import XGBClassifier\n",
    "from sklearn import svm, datasets\n",
    "from sklearn.neighbors import KNeighborsClassifier\n",
    "from sklearn.neural_network  import MLPClassifier\n",
    "from sklearn.linear_model import LogisticRegression\n",
    "from sklearn.naive_bayes import GaussianNB\n",
    "from sklearn.tree import DecisionTreeClassifier\n",
    "from sklearn.ensemble import BaggingClassifier\n",
    "from sklearn.ensemble import AdaBoostClassifier\n",
    "from sklearn.ensemble import VotingClassifier\n",
    "from sklearn.ensemble import RandomForestClassifier\n",
    "import lightgbm as lgb\n",
    "from lightgbm import LGBMModel,LGBMClassifier\n",
    "\n",
    "from sklearn.metrics import confusion_matrix\n",
    "\n",
    "\n",
    "#dtc = DecisionTreeClassifier(max_depth=15).fit(X_train, y_train)\n",
    "\n",
    "rng = np.random.RandomState(123)\n",
    "\n",
    "lr = LogisticRegression(C=1e5,solver='lbfgs',max_iter = 500)\n",
    "#dt =  DecisionTreeClassifier(criterion='entropy')\n",
    "dt=DecisionTreeClassifier(class_weight=None, criterion='gini', max_depth=32,\n",
    "     max_features=None, max_leaf_nodes=None,\n",
    "     min_impurity_split=1e-07, min_samples_leaf=1,\n",
    "     min_samples_split=2, min_weight_fraction_leaf=0.0,\n",
    "     presort=False, random_state=None, splitter='best')\n",
    "\n",
    "knn = KNeighborsClassifier(algorithm='auto', leaf_size=10, metric='minkowski',\n",
    " metric_params=None, n_jobs=1, n_neighbors=6, p=2,\n",
    " weights='uniform')\n",
    "mlp = MLPClassifier(solver='sgd', early_stopping=True, hidden_layer_sizes=(1000), activation='logistic', batch_size=100, max_iter=10000, learning_rate_init=0.1, momentum=0.2, tol=1e-10, random_state=rng)\n",
    "nb = GaussianNB(var_smoothing=1e-09)\n",
    "\n",
    "# Define ensembles\n",
    "#rf = RandomForestClassifier(criterion ='entropy', min_samples_split = 6, n_estimators=100, random_state=0)\n",
    "#rf = RandomForestClassifier(max_features = 'auto', criterion ='entropy', min_samples_split = 6, n_estimators=100, random_state=50, oob_score = True)\n",
    "rf = RandomForestClassifier(max_features = 'auto',max_depth= 8 ,criterion ='entropy', n_estimators=200, random_state=50, oob_score = True)\n",
    "\n",
    "\n",
    "# parameters for SVM\n",
    "\n",
    "#svc = svm.SVC(kernel='linear')\n",
    "\n",
    "\n",
    "xgb = XGBClassifier(  learning_rate=0.1,  \n",
    "                      colsample_bytree = 0.4,\n",
    "                      subsample = 0.8,\n",
    "                      objective='binary:logistic', \n",
    "                      n_estimators=1000, \n",
    "                      reg_alpha = 0.3,\n",
    "                      max_depth=6, \n",
    "                      gamma=10,\n",
    "                      min_child_weight=1)\n",
    "# antes max_depht = 4\n",
    "\n",
    "'''lgb=LGBMClassifier(boosting_type='gbdt', class_weight=None, colsample_bytree=1.0,\n",
    "               importance_type='split', learning_rate=0.1, max_depth=-1,\n",
    "               min_child_samples=20, min_child_weight=0.001, min_split_gain=0.0,\n",
    "               n_estimators=100, n_jobs=-1, num_leaves=31, objective=None,\n",
    "               random_state=8606, reg_alpha=0.0, reg_lambda=0.0, silent=True,\n",
    "               subsample=1.0, subsample_for_bin=200000, subsample_freq=0)'''\n",
    "\n",
    "cb = VotingClassifier(estimators=[('RandonFlorest', rf),('dt', dt),('xgb', xgb)], voting='soft')\n",
    "\n",
    "\n",
    "titles = ['LogisticRegresson', 'DecisionTree', 'KNN', 'NaiveBayes', 'MLP', 'RF', 'RF+XGB' , 'xgb']\n",
    "methods = [lr, dt, knn, nb, mlp, rf, cb ,xgb]\n"
   ]
  },
  {
   "cell_type": "code",
   "execution_count": 57,
   "metadata": {},
   "outputs": [
    {
     "name": "stdout",
     "output_type": "stream",
     "text": [
      "Classification accuracy LogisticRegresson = 0.6324786324786325\n",
      "Classification accuracy DecisionTree = 0.7967711301044634\n"
     ]
    },
    {
     "name": "stderr",
     "output_type": "stream",
     "text": [
      "C:\\Users\\cinth\\anaconda3\\envs\\ML\\lib\\site-packages\\sklearn\\tree\\_classes.py:310: FutureWarning: The min_impurity_split parameter is deprecated. Its default value has changed from 1e-7 to 0 in version 0.23, and it will be removed in 0.25. Use the min_impurity_decrease parameter instead.\n",
      "  FutureWarning)\n",
      "C:\\Users\\cinth\\anaconda3\\envs\\ML\\lib\\site-packages\\sklearn\\tree\\_classes.py:327: FutureWarning: The parameter 'presort' is deprecated and has no effect. It will be removed in v0.24. You can suppress this warning by not passing any value to the 'presort' parameter.\n",
      "  FutureWarning)\n"
     ]
    },
    {
     "name": "stdout",
     "output_type": "stream",
     "text": [
      "Classification accuracy KNN = 0.7521367521367521\n",
      "Classification accuracy NaiveBayes = 0.6595441595441596\n",
      "Classification accuracy MLP = 0.7787274453941121\n",
      "Classification accuracy RF = 0.8376068376068376\n"
     ]
    },
    {
     "name": "stderr",
     "output_type": "stream",
     "text": [
      "C:\\Users\\cinth\\anaconda3\\envs\\ML\\lib\\site-packages\\sklearn\\tree\\_classes.py:310: FutureWarning: The min_impurity_split parameter is deprecated. Its default value has changed from 1e-7 to 0 in version 0.23, and it will be removed in 0.25. Use the min_impurity_decrease parameter instead.\n",
      "  FutureWarning)\n",
      "C:\\Users\\cinth\\anaconda3\\envs\\ML\\lib\\site-packages\\sklearn\\tree\\_classes.py:327: FutureWarning: The parameter 'presort' is deprecated and has no effect. It will be removed in v0.24. You can suppress this warning by not passing any value to the 'presort' parameter.\n",
      "  FutureWarning)\n"
     ]
    },
    {
     "name": "stdout",
     "output_type": "stream",
     "text": [
      "Classification accuracy RF+XGB = 0.8247863247863247\n",
      "Classification accuracy xgb = 0.8300094966761633\n"
     ]
    }
   ],
   "source": [
    "scores = []\n",
    "for method, name in zip(methods, titles):\n",
    "    method.fit(X_train, y_train)\n",
    "    scores.append(method.score(X_test, y_test))\n",
    "    print(\"Classification accuracy {} = {}\"\n",
    "          .format(name, method.score(X_test, y_test)))"
   ]
  },
  {
   "cell_type": "code",
   "execution_count": 58,
   "metadata": {
    "scrolled": false
   },
   "outputs": [
    {
     "name": "stdout",
     "output_type": "stream",
     "text": [
      "LogisticRegresson\n",
      "            NORMAL  REABASTECER\n",
      "F1-Score  0.632827     0.632129\n",
      "Precisão  0.640730     0.624413\n",
      "Recall    0.625117     0.640038\n",
      "\n",
      "\n",
      "DecisionTree\n",
      "            NORMAL  REABASTECER\n",
      "F1-Score  0.795802     0.797732\n",
      "Precisão  0.810496     0.783658\n",
      "Recall    0.781631     0.812320\n",
      "\n",
      "\n",
      "KNN\n",
      "            NORMAL  REABASTECER\n",
      "F1-Score  0.758333     0.745614\n",
      "Precisão  0.749314     0.755183\n",
      "Recall    0.767573     0.736285\n",
      "\n",
      "\n",
      "NaiveBayes\n",
      "            NORMAL  REABASTECER\n",
      "F1-Score  0.662588     0.656445\n",
      "Precisão  0.665406     0.653626\n",
      "Recall    0.659794     0.659288\n",
      "\n",
      "\n",
      "MLP\n",
      "           NORMAL  REABASTECER\n",
      "F1-Score  0.76078     0.794170\n",
      "Precisão  0.84109     0.733878\n",
      "Recall    0.69447     0.865255\n",
      "\n",
      "\n",
      "RF\n",
      "            NORMAL  REABASTECER\n",
      "F1-Score  0.812910     0.856544\n",
      "Precisão  0.976347     0.759108\n",
      "Recall    0.696345     0.982676\n",
      "\n",
      "\n",
      "RF+XGB\n",
      "            NORMAL  REABASTECER\n",
      "F1-Score  0.817778     0.831276\n",
      "Precisão  0.864301     0.791812\n",
      "Recall    0.776007     0.874880\n",
      "\n",
      "\n",
      "xgb\n",
      "            NORMAL  REABASTECER\n",
      "F1-Score  0.810381     0.845955\n",
      "Precisão  0.931790     0.764981\n",
      "Recall    0.716963     0.946102\n",
      "\n",
      "\n"
     ]
    },
    {
     "data": {
      "image/png": "[encoded data removed]",
      "text/plain": [
       "<Figure size 1080x1080 with 18 Axes>"
      ]
     },
     "metadata": {
      "needs_background": "light"
     },
     "output_type": "display_data"
    },
    {
     "data": {
      "text/plain": [
       "<Figure size 432x288 with 0 Axes>"
      ]
     },
     "metadata": {},
     "output_type": "display_data"
    }
   ],
   "source": [
    "import seaborn as sns\n",
    "from sklearn.metrics import f1_score\n",
    "from sklearn.metrics import precision_score\n",
    "from sklearn.metrics import recall_score\n",
    "\n",
    "fig3, sub1 = plt.subplots(5, 2, figsize=(15, 15))\n",
    "plt.subplots_adjust(wspace=0.4, hspace=0.4)\n",
    "class_names=['NORMAL','REABASTECER', ] \n",
    "for clf, ax, title in zip(methods, sub1.flatten(), titles):\n",
    "    y_predicted = clf.predict(X_test)\n",
    "    cm = confusion_matrix(y_test, y_predicted)\n",
    "    #plot_confusion_matrix(ax, cm, title)\n",
    "    df_cm = pd.DataFrame(cm, index = [i for i in \"01\"],\n",
    "                  columns = [i for i in \"01\"])\n",
    "    sns.heatmap(df_cm, annot=True, ax=ax, fmt = 'd')\n",
    "    ax.set_title('Confusion Matrix --> ' + title)\n",
    "    ax.set_ylabel('True label')\n",
    "    ax.set_xlabel('Predicted label')\n",
    "    fScore = f1_score(y_test, y_predicted ,average=None)\n",
    "    precision = precision_score(y_test, y_predicted ,average=None)\n",
    "    recall = recall_score(y_test, y_predicted ,average=None)\n",
    "    \n",
    "    numpy_data = np.array([fScore,precision,recall]) \n",
    "    df = pd.DataFrame(data=numpy_data, index=[\"F1-Score\", \"Precisão\",\"Recall\"], columns = class_names)\n",
    "    print(title )\n",
    "    print(df)\n",
    "    print('\\n')\n",
    "\n",
    "plt.show()\n",
    "plt.tight_layout()"
   ]
  },
  {
   "cell_type": "markdown",
   "metadata": {},
   "source": [
    "## Grid View Random Florest\n",
    "### Depois que eu verifiquei o rando florest apliquei o metodo de Grid View para escolher os melhores parametros que foram usado acima."
   ]
  },
  {
   "cell_type": "code",
   "execution_count": 66,
   "metadata": {},
   "outputs": [
    {
     "data": {
      "text/plain": [
       "{'criterion': 'entropy',\n",
       " 'max_depth': 8,\n",
       " 'max_features': 'auto',\n",
       " 'n_estimators': 200}"
      ]
     },
     "execution_count": 66,
     "metadata": {},
     "output_type": "execute_result"
    }
   ],
   "source": [
    "from sklearn.model_selection import GridSearchCV\n",
    "from sklearn.ensemble import RandomForestClassifier\n",
    "\n",
    "\n",
    "rfc=RandomForestClassifier(random_state=42)\n",
    "\n",
    "param_grid = { \n",
    "    'n_estimators': [100,200,500],\n",
    "    'max_features': ['auto', 'sqrt', 'log2'],\n",
    "    'max_depth' : [4,5,6,7,8],\n",
    "    'criterion' :['gini', 'entropy']\n",
    "}\n",
    "\n",
    "CV_rfc = GridSearchCV(estimator=rfc, param_grid=param_grid, cv= 5)\n",
    "CV_rfc.fit(X_train, y_train)\n",
    "\n",
    "CV_rfc.best_params_"
   ]
  },
  {
   "cell_type": "code",
   "execution_count": 22,
   "metadata": {},
   "outputs": [
    {
     "name": "stdout",
     "output_type": "stream",
     "text": [
      "Collecting pycaretNote: you may need to restart the kernel to use updated packages.\n",
      "\n",
      "  Downloading pycaret-2.1.2-py3-none-any.whl (252 kB)\n",
      "Requirement already satisfied: IPython in c:\\users\\cinth\\anaconda3\\envs\\ml\\lib\\site-packages (from pycaret) (7.16.1)\n",
      "Requirement already satisfied: matplotlib in c:\\users\\cinth\\anaconda3\\envs\\ml\\lib\\site-packages (from pycaret) (3.2.2)\n",
      "Collecting cufflinks>=0.17.0\n",
      "  Downloading cufflinks-0.17.3.tar.gz (81 kB)\n",
      "Collecting datefinder>=0.7.0\n",
      "  Downloading datefinder-0.7.1-py2.py3-none-any.whl (10 kB)\n",
      "Requirement already satisfied: scikit-learn>=0.23 in c:\\users\\cinth\\anaconda3\\envs\\ml\\lib\\site-packages (from pycaret) (0.23.2)\n",
      "Requirement already satisfied: seaborn in c:\\users\\cinth\\anaconda3\\envs\\ml\\lib\\site-packages (from pycaret) (0.10.1)\n",
      "Collecting plotly>=4.4.1\n",
      "  Downloading plotly-4.10.0-py2.py3-none-any.whl (13.0 MB)\n",
      "Collecting pyLDAvis\n",
      "  Downloading pyLDAvis-2.1.2.tar.gz (1.6 MB)\n",
      "Requirement already satisfied: xgboost>=0.90 in c:\\users\\cinth\\anaconda3\\envs\\ml\\lib\\site-packages (from pycaret) (1.2.0)\n",
      "Collecting ipywidgets\n",
      "  Downloading ipywidgets-7.5.1-py2.py3-none-any.whl (121 kB)\n",
      "Requirement already satisfied: imbalanced-learn>=0.6.2 in c:\\users\\cinth\\anaconda3\\envs\\ml\\lib\\site-packages (from pycaret) (0.7.0)\n",
      "Collecting kmodes>=0.10.1\n",
      "  Downloading kmodes-0.10.2-py2.py3-none-any.whl (18 kB)\n",
      "Collecting yellowbrick>=1.0.1\n",
      "  Downloading yellowbrick-1.1-py3-none-any.whl (263 kB)\n",
      "Collecting catboost>=0.23.2\n",
      "  Downloading catboost-0.24.1-cp36-none-win_amd64.whl (65.3 MB)\n",
      "Collecting textblob\n",
      "  Downloading textblob-0.15.3-py2.py3-none-any.whl (636 kB)\n",
      "Requirement already satisfied: joblib in c:\\users\\cinth\\anaconda3\\envs\\ml\\lib\\site-packages (from pycaret) (0.16.0)\n",
      "Requirement already satisfied: numpy>=1.17 in c:\\users\\cinth\\anaconda3\\envs\\ml\\lib\\site-packages (from pycaret) (1.19.1)\n",
      "Collecting wordcloud\n",
      "  Downloading wordcloud-1.8.0-cp36-cp36m-win_amd64.whl (158 kB)\n",
      "Collecting mlxtend\n",
      "  Downloading mlxtend-0.17.3-py2.py3-none-any.whl (1.3 MB)\n"
     ]
    },
    {
     "name": "stderr",
     "output_type": "stream",
     "text": [
      "ERROR: After October 2020 you may experience errors when installing or updating packages. This is because pip will change the way that it resolves dependency conflicts.\n",
      "\n",
      "We recommend you use --use-feature=2020-resolver to test your packages with the new resolver before it becomes the default.\n",
      "\n",
      "pandas-profiling 2.9.0 requires pandas!=1.0.0,!=1.0.1,!=1.0.2,!=1.1.0,>=0.25.3, but you'll have pandas 1.1.0 which is incompatible.\n"
     ]
    },
    {
     "name": "stdout",
     "output_type": "stream",
     "text": [
      "Collecting pandas-profiling>=2.8.0\n",
      "  Downloading pandas_profiling-2.9.0-py2.py3-none-any.whl (258 kB)\n",
      "Collecting umap-learn\n",
      "  Downloading umap-learn-0.4.6.tar.gz (69 kB)\n",
      "Collecting pyod\n",
      "  Downloading pyod-0.8.2.tar.gz (96 kB)\n",
      "Collecting mlflow\n",
      "  Downloading mlflow-1.11.0-py3-none-any.whl (13.9 MB)\n",
      "Collecting lightgbm>=2.3.1\n",
      "  Downloading lightgbm-3.0.0-py2.py3-none-win_amd64.whl (737 kB)\n",
      "Collecting spacy\n",
      "  Downloading spacy-2.3.2-cp36-cp36m-win_amd64.whl (9.3 MB)\n",
      "Requirement already satisfied: pandas in c:\\users\\cinth\\anaconda3\\envs\\ml\\lib\\site-packages (from pycaret) (1.1.0)\n",
      "Collecting nltk\n",
      "  Downloading nltk-3.5.zip (1.4 MB)\n",
      "Collecting gensim\n",
      "  Downloading gensim-3.8.3-cp36-cp36m-win_amd64.whl (24.2 MB)\n",
      "Requirement already satisfied: jedi>=0.10 in c:\\users\\cinth\\anaconda3\\envs\\ml\\lib\\site-packages (from IPython->pycaret) (0.17.2)\n",
      "Requirement already satisfied: traitlets>=4.2 in c:\\users\\cinth\\anaconda3\\envs\\ml\\lib\\site-packages (from IPython->pycaret) (4.3.3)\n",
      "Requirement already satisfied: pygments in c:\\users\\cinth\\anaconda3\\envs\\ml\\lib\\site-packages (from IPython->pycaret) (2.6.1)\n",
      "Requirement already satisfied: prompt-toolkit!=3.0.0,!=3.0.1,<3.1.0,>=2.0.0 in c:\\users\\cinth\\anaconda3\\envs\\ml\\lib\\site-packages (from IPython->pycaret) (3.0.5)\n",
      "Requirement already satisfied: colorama; sys_platform == \"win32\" in c:\\users\\cinth\\anaconda3\\envs\\ml\\lib\\site-packages (from IPython->pycaret) (0.4.3)\n",
      "Requirement already satisfied: decorator in c:\\users\\cinth\\anaconda3\\envs\\ml\\lib\\site-packages (from IPython->pycaret) (4.4.2)\n",
      "Requirement already satisfied: setuptools>=18.5 in c:\\users\\cinth\\anaconda3\\envs\\ml\\lib\\site-packages (from IPython->pycaret) (49.6.0.post20200814)\n",
      "Requirement already satisfied: backcall in c:\\users\\cinth\\anaconda3\\envs\\ml\\lib\\site-packages (from IPython->pycaret) (0.2.0)\n",
      "Requirement already satisfied: pickleshare in c:\\users\\cinth\\anaconda3\\envs\\ml\\lib\\site-packages (from IPython->pycaret) (0.7.5)\n",
      "Requirement already satisfied: pyparsing!=2.0.4,!=2.1.2,!=2.1.6,>=2.0.1 in c:\\users\\cinth\\anaconda3\\envs\\ml\\lib\\site-packages (from matplotlib->pycaret) (2.4.7)\n",
      "Requirement already satisfied: cycler>=0.10 in c:\\users\\cinth\\anaconda3\\envs\\ml\\lib\\site-packages (from matplotlib->pycaret) (0.10.0)\n",
      "Requirement already satisfied: python-dateutil>=2.1 in c:\\users\\cinth\\anaconda3\\envs\\ml\\lib\\site-packages (from matplotlib->pycaret) (2.8.1)\n",
      "Requirement already satisfied: kiwisolver>=1.0.1 in c:\\users\\cinth\\anaconda3\\envs\\ml\\lib\\site-packages (from matplotlib->pycaret) (1.2.0)\n",
      "Requirement already satisfied: six>=1.9.0 in c:\\users\\cinth\\anaconda3\\envs\\ml\\lib\\site-packages (from cufflinks>=0.17.0->pycaret) (1.15.0)\n",
      "Collecting colorlover>=0.2.1\n",
      "  Downloading colorlover-0.3.0-py3-none-any.whl (8.9 kB)\n",
      "Collecting regex>=2017.02.08\n",
      "  Downloading regex-2020.7.14-cp36-cp36m-win_amd64.whl (268 kB)\n",
      "Requirement already satisfied: pytz in c:\\users\\cinth\\anaconda3\\envs\\ml\\lib\\site-packages (from datefinder>=0.7.0->pycaret) (2020.1)\n",
      "Requirement already satisfied: scipy>=0.19.1 in c:\\users\\cinth\\anaconda3\\envs\\ml\\lib\\site-packages (from scikit-learn>=0.23->pycaret) (1.5.0)\n",
      "Requirement already satisfied: threadpoolctl>=2.0.0 in c:\\users\\cinth\\anaconda3\\envs\\ml\\lib\\site-packages (from scikit-learn>=0.23->pycaret) (2.1.0)\n",
      "Collecting retrying>=1.3.3\n",
      "  Downloading retrying-1.3.3.tar.gz (10 kB)\n",
      "Requirement already satisfied: wheel>=0.23.0 in c:\\users\\cinth\\anaconda3\\envs\\ml\\lib\\site-packages (from pyLDAvis->pycaret) (0.34.2)\n",
      "Requirement already satisfied: jinja2>=2.7.2 in c:\\users\\cinth\\anaconda3\\envs\\ml\\lib\\site-packages (from pyLDAvis->pycaret) (2.11.2)\n",
      "Collecting numexpr\n",
      "  Downloading numexpr-2.7.1-cp36-none-win_amd64.whl (90 kB)\n",
      "Collecting pytest\n",
      "  Downloading pytest-6.0.2-py3-none-any.whl (270 kB)\n",
      "Collecting future\n",
      "  Downloading future-0.18.2.tar.gz (829 kB)\n",
      "Collecting funcy\n",
      "  Downloading funcy-1.14.tar.gz (548 kB)\n",
      "Requirement already satisfied: nbformat>=4.2.0 in c:\\users\\cinth\\anaconda3\\envs\\ml\\lib\\site-packages (from ipywidgets->pycaret) (5.0.7)\n",
      "Requirement already satisfied: ipykernel>=4.5.1 in c:\\users\\cinth\\anaconda3\\envs\\ml\\lib\\site-packages (from ipywidgets->pycaret) (5.3.4)\n",
      "Collecting widgetsnbextension~=3.5.0\n",
      "  Downloading widgetsnbextension-3.5.1-py2.py3-none-any.whl (2.2 MB)\n",
      "Collecting graphviz\n",
      "  Downloading graphviz-0.14.1-py2.py3-none-any.whl (18 kB)\n",
      "Requirement already satisfied: pillow in c:\\users\\cinth\\anaconda3\\envs\\ml\\lib\\site-packages (from wordcloud->pycaret) (7.2.0)\n",
      "Requirement already satisfied: attrs>=19.3.0 in c:\\users\\cinth\\anaconda3\\envs\\ml\\lib\\site-packages (from pandas-profiling>=2.8.0->pycaret) (19.3.0)\n",
      "Collecting htmlmin>=0.1.12\n",
      "  Downloading htmlmin-0.1.12.tar.gz (19 kB)\n",
      "Requirement already satisfied: requests>=2.23.0 in c:\\users\\cinth\\anaconda3\\envs\\ml\\lib\\site-packages (from pandas-profiling>=2.8.0->pycaret) (2.24.0)\n",
      "Collecting tqdm>=4.43.0\n",
      "  Downloading tqdm-4.49.0-py2.py3-none-any.whl (69 kB)\n",
      "Collecting visions[type_image_path]==0.5.0\n",
      "  Downloading visions-0.5.0-py3-none-any.whl (64 kB)\n",
      "Collecting confuse>=1.0.0\n",
      "  Downloading confuse-1.3.0-py2.py3-none-any.whl (64 kB)\n",
      "Collecting phik>=0.9.10\n",
      "  Downloading phik-0.10.0-py3-none-any.whl (599 kB)\n",
      "Collecting missingno>=0.4.2\n",
      "  Downloading missingno-0.4.2-py3-none-any.whl (9.7 kB)\n",
      "Collecting tangled-up-in-unicode>=0.0.6\n",
      "  Downloading tangled_up_in_unicode-0.0.6-py3-none-any.whl (3.1 MB)\n",
      "Collecting numba!=0.47,>=0.46\n",
      "  Downloading numba-0.51.2-cp36-cp36m-win_amd64.whl (2.2 MB)\n",
      "Collecting combo\n",
      "  Downloading combo-0.1.1.tar.gz (37 kB)\n",
      "Collecting statsmodels\n",
      "  Downloading statsmodels-0.12.0-cp36-none-win_amd64.whl (9.1 MB)\n",
      "Collecting suod\n",
      "  Downloading suod-0.0.4.tar.gz (2.1 MB)\n",
      "Requirement already satisfied: pyyaml in c:\\users\\cinth\\anaconda3\\envs\\ml\\lib\\site-packages (from mlflow->pycaret) (5.3.1)\n",
      "Collecting Flask\n",
      "  Downloading Flask-1.1.2-py2.py3-none-any.whl (94 kB)\n",
      "Collecting alembic<=1.4.1\n",
      "  Downloading alembic-1.4.1.tar.gz (1.1 MB)\n",
      "Collecting docker>=4.0.0\n",
      "  Downloading docker-4.3.1-py2.py3-none-any.whl (145 kB)\n",
      "Collecting waitress; platform_system == \"Windows\"\n",
      "  Downloading waitress-1.4.4-py2.py3-none-any.whl (58 kB)\n",
      "Requirement already satisfied: cloudpickle in c:\\users\\cinth\\anaconda3\\envs\\ml\\lib\\site-packages (from mlflow->pycaret) (1.5.0)\n",
      "Collecting databricks-cli>=0.8.7\n",
      "  Downloading databricks-cli-0.11.0.tar.gz (49 kB)\n",
      "Collecting azure-storage-blob>=12.0\n",
      "  Downloading azure_storage_blob-12.5.0-py2.py3-none-any.whl (326 kB)\n",
      "Collecting sqlalchemy<=1.3.13\n",
      "  Downloading SQLAlchemy-1.3.13.tar.gz (6.0 MB)\n",
      "Requirement already satisfied: entrypoints in c:\\users\\cinth\\anaconda3\\envs\\ml\\lib\\site-packages (from mlflow->pycaret) (0.3)\n",
      "Collecting gorilla\n",
      "  Downloading gorilla-0.3.0-py2.py3-none-any.whl (11 kB)\n",
      "Collecting gitpython>=2.1.0\n",
      "  Downloading GitPython-3.1.8-py3-none-any.whl (159 kB)\n",
      "Requirement already satisfied: click>=7.0 in c:\\users\\cinth\\anaconda3\\envs\\ml\\lib\\site-packages (from mlflow->pycaret) (7.1.2)\n",
      "Collecting sqlparse\n",
      "  Downloading sqlparse-0.3.1-py2.py3-none-any.whl (40 kB)\n",
      "Collecting prometheus-flask-exporter\n",
      "  Downloading prometheus_flask_exporter-0.17.0.tar.gz (21 kB)\n",
      "Requirement already satisfied: protobuf>=3.6.0 in c:\\users\\cinth\\anaconda3\\envs\\ml\\lib\\site-packages (from mlflow->pycaret) (3.12.4)\n",
      "Collecting querystring-parser\n",
      "  Downloading querystring_parser-1.2.4.tar.gz (5.5 kB)\n",
      "Collecting plac<1.2.0,>=0.9.6\n",
      "  Downloading plac-1.1.3-py2.py3-none-any.whl (20 kB)\n",
      "Collecting preshed<3.1.0,>=3.0.2\n",
      "  Downloading preshed-3.0.2-cp36-cp36m-win_amd64.whl (105 kB)\n",
      "Collecting thinc==7.4.1\n",
      "  Downloading thinc-7.4.1-cp36-cp36m-win_amd64.whl (2.0 MB)\n",
      "Collecting catalogue<1.1.0,>=0.0.7\n",
      "  Downloading catalogue-1.0.0-py2.py3-none-any.whl (7.7 kB)\n",
      "Collecting cymem<2.1.0,>=2.0.2\n",
      "  Downloading cymem-2.0.3-cp36-cp36m-win_amd64.whl (32 kB)\n",
      "Collecting murmurhash<1.1.0,>=0.28.0\n",
      "  Downloading murmurhash-1.0.2-cp36-cp36m-win_amd64.whl (20 kB)\n",
      "Collecting wasabi<1.1.0,>=0.4.0\n",
      "  Downloading wasabi-0.8.0-py3-none-any.whl (23 kB)\n",
      "Collecting srsly<1.1.0,>=1.0.2\n",
      "  Downloading srsly-1.0.2-cp36-cp36m-win_amd64.whl (179 kB)\n",
      "Collecting blis<0.5.0,>=0.4.0\n",
      "  Downloading blis-0.4.1-cp36-cp36m-win_amd64.whl (5.0 MB)\n",
      "Collecting Cython==0.29.14\n",
      "  Downloading Cython-0.29.14-cp36-cp36m-win_amd64.whl (1.7 MB)\n",
      "Collecting smart-open>=1.8.1\n",
      "  Downloading smart_open-2.1.1.tar.gz (111 kB)\n",
      "Requirement already satisfied: parso<0.8.0,>=0.7.0 in c:\\users\\cinth\\anaconda3\\envs\\ml\\lib\\site-packages (from jedi>=0.10->IPython->pycaret) (0.7.0)\n",
      "Requirement already satisfied: ipython-genutils in c:\\users\\cinth\\anaconda3\\envs\\ml\\lib\\site-packages (from traitlets>=4.2->IPython->pycaret) (0.2.0)\n",
      "Requirement already satisfied: wcwidth in c:\\users\\cinth\\anaconda3\\envs\\ml\\lib\\site-packages (from prompt-toolkit!=3.0.0,!=3.0.1,<3.1.0,>=2.0.0->IPython->pycaret) (0.2.5)\n",
      "Requirement already satisfied: MarkupSafe>=0.23 in c:\\users\\cinth\\anaconda3\\envs\\ml\\lib\\site-packages (from jinja2>=2.7.2->pyLDAvis->pycaret) (1.1.1)\n",
      "Collecting py>=1.8.2\n",
      "  Downloading py-1.9.0-py2.py3-none-any.whl (99 kB)\n",
      "Requirement already satisfied: importlib-metadata>=0.12; python_version < \"3.8\" in c:\\users\\cinth\\anaconda3\\envs\\ml\\lib\\site-packages (from pytest->pyLDAvis->pycaret) (1.7.0)\n",
      "Collecting more-itertools>=4.0.0\n",
      "  Downloading more_itertools-8.5.0-py3-none-any.whl (44 kB)\n",
      "Collecting iniconfig\n",
      "  Downloading iniconfig-1.0.1-py3-none-any.whl (4.2 kB)\n",
      "Collecting pluggy<1.0,>=0.12\n",
      "  Downloading pluggy-0.13.1-py2.py3-none-any.whl (18 kB)\n",
      "Collecting atomicwrites>=1.0; sys_platform == \"win32\"\n",
      "  Downloading atomicwrites-1.4.0-py2.py3-none-any.whl (6.8 kB)\n",
      "Requirement already satisfied: packaging in c:\\users\\cinth\\anaconda3\\envs\\ml\\lib\\site-packages (from pytest->pyLDAvis->pycaret) (20.4)\n",
      "Collecting toml\n",
      "  Using cached toml-0.10.1-py2.py3-none-any.whl (19 kB)\n",
      "Requirement already satisfied: jsonschema!=2.5.0,>=2.4 in c:\\users\\cinth\\anaconda3\\envs\\ml\\lib\\site-packages (from nbformat>=4.2.0->ipywidgets->pycaret) (3.2.0)\n",
      "Requirement already satisfied: jupyter-core in c:\\users\\cinth\\anaconda3\\envs\\ml\\lib\\site-packages (from nbformat>=4.2.0->ipywidgets->pycaret) (4.6.3)\n",
      "Requirement already satisfied: jupyter-client in c:\\users\\cinth\\anaconda3\\envs\\ml\\lib\\site-packages (from ipykernel>=4.5.1->ipywidgets->pycaret) (6.1.6)\n",
      "Requirement already satisfied: tornado>=4.2 in c:\\users\\cinth\\anaconda3\\envs\\ml\\lib\\site-packages (from ipykernel>=4.5.1->ipywidgets->pycaret) (6.0.4)\n",
      "Requirement already satisfied: notebook>=4.4.1 in c:\\users\\cinth\\anaconda3\\envs\\ml\\lib\\site-packages (from widgetsnbextension~=3.5.0->ipywidgets->pycaret) (6.1.1)\n",
      "Requirement already satisfied: idna<3,>=2.5 in c:\\users\\cinth\\anaconda3\\envs\\ml\\lib\\site-packages (from requests>=2.23.0->pandas-profiling>=2.8.0->pycaret) (2.10)\n",
      "Requirement already satisfied: certifi>=2017.4.17 in c:\\users\\cinth\\anaconda3\\envs\\ml\\lib\\site-packages (from requests>=2.23.0->pandas-profiling>=2.8.0->pycaret) (2020.6.20)\n",
      "Requirement already satisfied: chardet<4,>=3.0.2 in c:\\users\\cinth\\anaconda3\\envs\\ml\\lib\\site-packages (from requests>=2.23.0->pandas-profiling>=2.8.0->pycaret) (3.0.4)\n",
      "Requirement already satisfied: urllib3!=1.25.0,!=1.25.1,<1.26,>=1.21.1 in c:\\users\\cinth\\anaconda3\\envs\\ml\\lib\\site-packages (from requests>=2.23.0->pandas-profiling>=2.8.0->pycaret) (1.25.10)\n",
      "Requirement already satisfied: networkx>=2.4 in c:\\users\\cinth\\anaconda3\\envs\\ml\\lib\\site-packages (from visions[type_image_path]==0.5.0->pandas-profiling>=2.8.0->pycaret) (2.4)\n",
      "Collecting imagehash; extra == \"type_image_path\"\n",
      "  Downloading ImageHash-4.1.0.tar.gz (291 kB)\n",
      "Collecting llvmlite<0.35,>=0.34.0.dev0\n",
      "  Downloading llvmlite-0.34.0-cp36-cp36m-win_amd64.whl (15.9 MB)\n"
     ]
    },
    {
     "name": "stdout",
     "output_type": "stream",
     "text": [
      "Collecting patsy>=0.5\n",
      "  Downloading patsy-0.5.1-py2.py3-none-any.whl (231 kB)\n",
      "Requirement already satisfied: Werkzeug>=0.15 in c:\\users\\cinth\\anaconda3\\envs\\ml\\lib\\site-packages (from Flask->mlflow->pycaret) (0.16.1)\n",
      "Collecting itsdangerous>=0.24\n",
      "  Downloading itsdangerous-1.1.0-py2.py3-none-any.whl (16 kB)\n",
      "Collecting Mako\n",
      "  Downloading Mako-1.1.3-py2.py3-none-any.whl (75 kB)\n",
      "Collecting python-editor>=0.3\n",
      "  Downloading python_editor-1.0.4-py3-none-any.whl (4.9 kB)\n",
      "Collecting websocket-client>=0.32.0\n",
      "  Downloading websocket_client-0.57.0-py2.py3-none-any.whl (200 kB)\n",
      "Requirement already satisfied: pywin32==227; sys_platform == \"win32\" in c:\\users\\cinth\\anaconda3\\envs\\ml\\lib\\site-packages (from docker>=4.0.0->mlflow->pycaret) (227)\n",
      "Collecting tabulate>=0.7.7\n",
      "  Downloading tabulate-0.8.7-py3-none-any.whl (24 kB)\n",
      "Collecting msrest>=0.6.10\n",
      "  Downloading msrest-0.6.19-py2.py3-none-any.whl (84 kB)\n",
      "Requirement already satisfied: cryptography>=2.1.4 in c:\\users\\cinth\\anaconda3\\envs\\ml\\lib\\site-packages (from azure-storage-blob>=12.0->mlflow->pycaret) (2.9.2)\n",
      "Collecting azure-core<2.0.0,>=1.6.0\n",
      "  Downloading azure_core-1.8.1-py2.py3-none-any.whl (121 kB)\n",
      "Collecting gitdb<5,>=4.0.1\n",
      "  Downloading gitdb-4.0.5-py3-none-any.whl (63 kB)\n",
      "Requirement already satisfied: prometheus_client in c:\\users\\cinth\\anaconda3\\envs\\ml\\lib\\site-packages (from prometheus-flask-exporter->mlflow->pycaret) (0.8.0)\n",
      "Collecting boto\n",
      "  Downloading boto-2.49.0-py2.py3-none-any.whl (1.4 MB)\n",
      "Collecting boto3\n",
      "  Downloading boto3-1.15.1.tar.gz (97 kB)\n",
      "Requirement already satisfied: zipp>=0.5 in c:\\users\\cinth\\anaconda3\\envs\\ml\\lib\\site-packages (from importlib-metadata>=0.12; python_version < \"3.8\"->pytest->pyLDAvis->pycaret) (3.1.0)\n",
      "Requirement already satisfied: pyrsistent>=0.14.0 in c:\\users\\cinth\\anaconda3\\envs\\ml\\lib\\site-packages (from jsonschema!=2.5.0,>=2.4->nbformat>=4.2.0->ipywidgets->pycaret) (0.16.0)\n",
      "Requirement already satisfied: pyzmq>=13 in c:\\users\\cinth\\anaconda3\\envs\\ml\\lib\\site-packages (from jupyter-client->ipykernel>=4.5.1->ipywidgets->pycaret) (19.0.1)\n",
      "Requirement already satisfied: nbconvert in c:\\users\\cinth\\anaconda3\\envs\\ml\\lib\\site-packages (from notebook>=4.4.1->widgetsnbextension~=3.5.0->ipywidgets->pycaret) (5.6.1)\n",
      "Requirement already satisfied: terminado>=0.8.3 in c:\\users\\cinth\\anaconda3\\envs\\ml\\lib\\site-packages (from notebook>=4.4.1->widgetsnbextension~=3.5.0->ipywidgets->pycaret) (0.8.3)\n",
      "Requirement already satisfied: argon2-cffi in c:\\users\\cinth\\anaconda3\\envs\\ml\\lib\\site-packages (from notebook>=4.4.1->widgetsnbextension~=3.5.0->ipywidgets->pycaret) (20.1.0)\n",
      "Requirement already satisfied: Send2Trash in c:\\users\\cinth\\anaconda3\\envs\\ml\\lib\\site-packages (from notebook>=4.4.1->widgetsnbextension~=3.5.0->ipywidgets->pycaret) (1.5.0)\n",
      "Requirement already satisfied: PyWavelets in c:\\users\\cinth\\anaconda3\\envs\\ml\\lib\\site-packages (from imagehash; extra == \"type_image_path\"->visions[type_image_path]==0.5.0->pandas-profiling>=2.8.0->pycaret) (1.1.1)\n",
      "Requirement already satisfied: requests-oauthlib>=0.5.0 in c:\\users\\cinth\\anaconda3\\envs\\ml\\lib\\site-packages (from msrest>=0.6.10->azure-storage-blob>=12.0->mlflow->pycaret) (1.3.0)\n",
      "Collecting isodate>=0.6.0\n",
      "  Downloading isodate-0.6.0-py2.py3-none-any.whl (45 kB)\n",
      "Requirement already satisfied: cffi!=1.11.3,>=1.8 in c:\\users\\cinth\\anaconda3\\envs\\ml\\lib\\site-packages (from cryptography>=2.1.4->azure-storage-blob>=12.0->mlflow->pycaret) (1.14.0)\n",
      "Collecting smmap<4,>=3.0.1\n",
      "  Downloading smmap-3.0.4-py2.py3-none-any.whl (25 kB)\n",
      "Collecting botocore<1.19.0,>=1.18.1\n",
      "  Downloading botocore-1.18.1-py2.py3-none-any.whl (6.6 MB)\n",
      "Collecting jmespath<1.0.0,>=0.7.1\n",
      "  Downloading jmespath-0.10.0-py2.py3-none-any.whl (24 kB)\n",
      "Collecting s3transfer<0.4.0,>=0.3.0\n",
      "  Downloading s3transfer-0.3.3-py2.py3-none-any.whl (69 kB)\n",
      "Requirement already satisfied: testpath in c:\\users\\cinth\\anaconda3\\envs\\ml\\lib\\site-packages (from nbconvert->notebook>=4.4.1->widgetsnbextension~=3.5.0->ipywidgets->pycaret) (0.4.4)\n",
      "Requirement already satisfied: mistune<2,>=0.8.1 in c:\\users\\cinth\\anaconda3\\envs\\ml\\lib\\site-packages (from nbconvert->notebook>=4.4.1->widgetsnbextension~=3.5.0->ipywidgets->pycaret) (0.8.4)\n",
      "Requirement already satisfied: defusedxml in c:\\users\\cinth\\anaconda3\\envs\\ml\\lib\\site-packages (from nbconvert->notebook>=4.4.1->widgetsnbextension~=3.5.0->ipywidgets->pycaret) (0.6.0)\n",
      "Requirement already satisfied: pandocfilters>=1.4.1 in c:\\users\\cinth\\anaconda3\\envs\\ml\\lib\\site-packages (from nbconvert->notebook>=4.4.1->widgetsnbextension~=3.5.0->ipywidgets->pycaret) (1.4.2)\n",
      "Requirement already satisfied: bleach in c:\\users\\cinth\\anaconda3\\envs\\ml\\lib\\site-packages (from nbconvert->notebook>=4.4.1->widgetsnbextension~=3.5.0->ipywidgets->pycaret) (3.1.5)\n",
      "Requirement already satisfied: oauthlib>=3.0.0 in c:\\users\\cinth\\anaconda3\\envs\\ml\\lib\\site-packages (from requests-oauthlib>=0.5.0->msrest>=0.6.10->azure-storage-blob>=12.0->mlflow->pycaret) (3.1.0)\n",
      "Requirement already satisfied: pycparser in c:\\users\\cinth\\anaconda3\\envs\\ml\\lib\\site-packages (from cffi!=1.11.3,>=1.8->cryptography>=2.1.4->azure-storage-blob>=12.0->mlflow->pycaret) (2.20)\n",
      "Requirement already satisfied: webencodings in c:\\users\\cinth\\anaconda3\\envs\\ml\\lib\\site-packages (from bleach->nbconvert->notebook>=4.4.1->widgetsnbextension~=3.5.0->ipywidgets->pycaret) (0.5.1)\n",
      "Building wheels for collected packages: cufflinks, pyLDAvis, umap-learn, pyod, nltk, retrying, future, funcy, htmlmin, combo, suod, alembic, databricks-cli, sqlalchemy, prometheus-flask-exporter, querystring-parser, smart-open, imagehash, boto3\n",
      "  Building wheel for cufflinks (setup.py): started\n",
      "  Building wheel for cufflinks (setup.py): finished with status 'done'\n",
      "  Created wheel for cufflinks: filename=cufflinks-0.17.3-py3-none-any.whl size=68729 sha256=b522f90352f6765706037bb27558d4289ebe65c005fe74ea02be30345287775a\n",
      "  Stored in directory: c:\\users\\cinth\\appdata\\local\\pip\\cache\\wheels\\1c\\db\\ce\\70cf35eb5a61b9ea3d34434072a8821dddc4f21eb5127e5415\n",
      "  Building wheel for pyLDAvis (setup.py): started\n",
      "  Building wheel for pyLDAvis (setup.py): finished with status 'done'\n",
      "  Created wheel for pyLDAvis: filename=pyLDAvis-2.1.2-py2.py3-none-any.whl size=97716 sha256=4cf29a96b919cc0bd573840ab9b3ea87a1bb32b0367329e9a5e0e7332515ab00\n",
      "  Stored in directory: c:\\users\\cinth\\appdata\\local\\pip\\cache\\wheels\\57\\de\\11\\0a038be70c2c212ce45fa0f4f9da165bb5dd87de1288394dc3\n",
      "  Building wheel for umap-learn (setup.py): started\n",
      "  Building wheel for umap-learn (setup.py): finished with status 'done'\n",
      "  Created wheel for umap-learn: filename=umap_learn-0.4.6-py3-none-any.whl size=67956 sha256=d5845ee7b367a4cac6dc6b8341fad7e29c448914d7b302932fff243131320a8d\n",
      "  Stored in directory: c:\\users\\cinth\\appdata\\local\\pip\\cache\\wheels\\22\\ce\\3d\\75f6600b4d93c851021aceeec51b7b330c0ad4d9692e69be6a\n",
      "  Building wheel for pyod (setup.py): started\n",
      "  Building wheel for pyod (setup.py): finished with status 'done'\n",
      "  Created wheel for pyod: filename=pyod-0.8.2-py3-none-any.whl size=110201 sha256=385212f01702ae2f7958611b8130fcc26d58346e6f19fcd598c16e0b362cbaeb\n",
      "  Stored in directory: c:\\users\\cinth\\appdata\\local\\pip\\cache\\wheels\\9a\\5b\\4b\\5bedf69e2129511a04f819494dd20fd9aa65dda0ca439052f3\n",
      "  Building wheel for nltk (setup.py): started\n",
      "  Building wheel for nltk (setup.py): finished with status 'done'\n",
      "  Created wheel for nltk: filename=nltk-3.5-py3-none-any.whl size=1434679 sha256=d0e127771fd207699d54acd1b41560aceaa876a14105b40c7970b36beddb5a39\n",
      "  Stored in directory: c:\\users\\cinth\\appdata\\local\\pip\\cache\\wheels\\de\\5e\\42\\64abaeca668161c3e2cecc24f864a8fc421e3d07a104fc8a51\n",
      "  Building wheel for retrying (setup.py): started\n",
      "  Building wheel for retrying (setup.py): finished with status 'done'\n",
      "  Created wheel for retrying: filename=retrying-1.3.3-py3-none-any.whl size=11435 sha256=666f6e1dd0961945fc76dd235a619db01096dc436952fb1678b3bd378037ce66\n",
      "  Stored in directory: c:\\users\\cinth\\appdata\\local\\pip\\cache\\wheels\\ac\\cb\\8a\\b27bf6323e2f4c462dcbf77d70b7c5e7868a7fbe12871770cf\n",
      "  Building wheel for future (setup.py): started\n",
      "  Building wheel for future (setup.py): finished with status 'done'\n",
      "  Created wheel for future: filename=future-0.18.2-py3-none-any.whl size=491062 sha256=c6c73187801d4d80e9758bdcf094e14b09ac0403c58a171fb65a65e61c4bbddb\n",
      "  Stored in directory: c:\\users\\cinth\\appdata\\local\\pip\\cache\\wheels\\6e\\9c\\ed\\4499c9865ac1002697793e0ae05ba6be33553d098f3347fb94\n",
      "  Building wheel for funcy (setup.py): started\n",
      "  Building wheel for funcy (setup.py): finished with status 'done'\n",
      "  Created wheel for funcy: filename=funcy-1.14-py2.py3-none-any.whl size=32045 sha256=0eed56f59a7577952a67c4cc0f08c3e8c1d7e10bfcb1ff646a3a6e137269dd52\n",
      "  Stored in directory: c:\\users\\cinth\\appdata\\local\\pip\\cache\\wheels\\5e\\e0\\ba\\0dd7bb3f79264f8f60690da62918081bb8c3fb7442c38bfddd\n",
      "  Building wheel for htmlmin (setup.py): started\n",
      "  Building wheel for htmlmin (setup.py): finished with status 'done'\n",
      "  Created wheel for htmlmin: filename=htmlmin-0.1.12-py3-none-any.whl size=27090 sha256=ef64768835871a5e0e1c58234516fd67b6b7a7afcab0366715c3c23f4a32e88b\n",
      "  Stored in directory: c:\\users\\cinth\\appdata\\local\\pip\\cache\\wheels\\c3\\fe\\0b\\4450b38bceb9ae43dd7d0f16e353566f30f5f4d59a58eca2ed\n",
      "  Building wheel for combo (setup.py): started\n",
      "  Building wheel for combo (setup.py): finished with status 'done'\n",
      "  Created wheel for combo: filename=combo-0.1.1-py3-none-any.whl size=42119 sha256=bce6d7b880c089fb8e7d36956230e9e56ab5ec9eec9f8ba62d6d7f5dff1474ca\n",
      "  Stored in directory: c:\\users\\cinth\\appdata\\local\\pip\\cache\\wheels\\66\\36\\30\\c526ec2ea927c0b9ad94aeccd4f5820d258a1dc0b85953913f\n",
      "  Building wheel for suod (setup.py): started\n",
      "  Building wheel for suod (setup.py): finished with status 'done'\n",
      "  Created wheel for suod: filename=suod-0.0.4-py3-none-any.whl size=2167162 sha256=50b903d9b2083671871188e114e57670b7ea4a82b0dc792b1d812fc2598d2872\n",
      "  Stored in directory: c:\\users\\cinth\\appdata\\local\\pip\\cache\\wheels\\21\\44\\a8\\ba508e4a93b9554e081c88cd120b027b28a10bef454ca07b5d\n",
      "  Building wheel for alembic (setup.py): started\n",
      "  Building wheel for alembic (setup.py): finished with status 'done'\n",
      "  Created wheel for alembic: filename=alembic-1.4.1-py2.py3-none-any.whl size=158159 sha256=182f570af04d42db510c23e4980859812b748bdb33fde028ced351461ba0315b\n",
      "  Stored in directory: c:\\users\\cinth\\appdata\\local\\pip\\cache\\wheels\\e9\\7b\\aa\\e18c983d8236b141f85838ba0f8e4e4ae9bcf7f1e00ff726ec\n",
      "  Building wheel for databricks-cli (setup.py): started\n",
      "  Building wheel for databricks-cli (setup.py): finished with status 'done'\n",
      "  Created wheel for databricks-cli: filename=databricks_cli-0.11.0-py3-none-any.whl size=90305 sha256=492abe55e2972556bb7f7e622545547b2eba53ac0f242eb0ed17f49f27c54685\n",
      "  Stored in directory: c:\\users\\cinth\\appdata\\local\\pip\\cache\\wheels\\42\\9f\\68\\f17e7b4af8b8b954ce3a590ac1ad3a4eccd756a13348db31d6\n",
      "  Building wheel for sqlalchemy (setup.py): started\n",
      "  Building wheel for sqlalchemy (setup.py): finished with status 'done'\n",
      "  Created wheel for sqlalchemy: filename=SQLAlchemy-1.3.13-cp36-cp36m-win_amd64.whl size=1171671 sha256=7d5c160cf98c509bc187662d9b78b019fe7b33aec240da0985cddc2fa843611a\n",
      "  Stored in directory: c:\\users\\cinth\\appdata\\local\\pip\\cache\\wheels\\28\\3e\\f9\\8eca04781258bb6956ffba37e4e6e6951e5b3a16d4494b91cb\n",
      "  Building wheel for prometheus-flask-exporter (setup.py): started\n",
      "  Building wheel for prometheus-flask-exporter (setup.py): finished with status 'done'\n",
      "  Created wheel for prometheus-flask-exporter: filename=prometheus_flask_exporter-0.17.0-py3-none-any.whl size=16837 sha256=4dbbc540452f08a14abac976900fa468e4fb1c8c986960d05c5e903bbf9110dc\n",
      "  Stored in directory: c:\\users\\cinth\\appdata\\local\\pip\\cache\\wheels\\e3\\8a\\5f\\b5c3973a74aa9062e75bd08c43528f1e0d56f6ee67b973f3ae\n",
      "  Building wheel for querystring-parser (setup.py): started\n",
      "  Building wheel for querystring-parser (setup.py): finished with status 'done'\n",
      "  Created wheel for querystring-parser: filename=querystring_parser-1.2.4-py3-none-any.whl size=7081 sha256=b246b8d4b260de587435bb10f12b8d4790cc3a3ac1b2805d765a8139911cc4ae\n",
      "  Stored in directory: c:\\users\\cinth\\appdata\\local\\pip\\cache\\wheels\\87\\da\\0d\\a9e8051c7c19128c271107462cd444b37afc22aaed15061ed5\n",
      "  Building wheel for smart-open (setup.py): started\n",
      "  Building wheel for smart-open (setup.py): finished with status 'done'\n",
      "  Created wheel for smart-open: filename=smart_open-2.1.1-py3-none-any.whl size=112418 sha256=8fdcc82d10f2eb707c8042834105f5e985750e21dfc60d28d84a4d9d4beb69e3\n",
      "  Stored in directory: c:\\users\\cinth\\appdata\\local\\pip\\cache\\wheels\\07\\d8\\70\\da31eb9ec5ff49ac74f1a5944704029f0b6fd74fdf318ec300\n",
      "  Building wheel for imagehash (setup.py): started\n",
      "  Building wheel for imagehash (setup.py): finished with status 'done'\n",
      "  Created wheel for imagehash: filename=ImageHash-4.1.0-py2.py3-none-any.whl size=291996 sha256=0fb7d52e81015c107302efc26c1caab2611acb9c15939f9d26670f54948ff538\n",
      "  Stored in directory: c:\\users\\cinth\\appdata\\local\\pip\\cache\\wheels\\43\\f6\\25\\a58e553441acfc5ad7782c545147759c94d0d95ea1c1edd4bf\n",
      "  Building wheel for boto3 (setup.py): started\n",
      "  Building wheel for boto3 (setup.py): finished with status 'done'\n",
      "  Created wheel for boto3: filename=boto3-1.15.1-py2.py3-none-any.whl size=127847 sha256=f835f1122eb8c0dab5295b64714d02f34d8d8aa159e9bc9c633b6145caa83110\n",
      "  Stored in directory: c:\\users\\cinth\\appdata\\local\\pip\\cache\\wheels\\ad\\55\\ed\\6b6fd69ae823909640f593f6e1842c48d337972c84e33ad657\n",
      "Successfully built cufflinks pyLDAvis umap-learn pyod nltk retrying future funcy htmlmin combo suod alembic databricks-cli sqlalchemy prometheus-flask-exporter querystring-parser smart-open imagehash boto3\n",
      "Installing collected packages: retrying, plotly, colorlover, widgetsnbextension, ipywidgets, cufflinks, regex, datefinder, numexpr, py, more-itertools, iniconfig, pluggy, atomicwrites, toml, pytest, future, funcy, pyLDAvis, kmodes, yellowbrick, graphviz, catboost, tqdm, nltk, textblob, wordcloud, mlxtend, htmlmin, tangled-up-in-unicode, imagehash, visions, confuse, llvmlite, numba, phik, missingno, pandas-profiling, umap-learn, combo, patsy, statsmodels, suod, pyod, itsdangerous, Flask, sqlalchemy, Mako, python-editor, alembic, websocket-client, docker, waitress, tabulate, databricks-cli, isodate, msrest, azure-core, azure-storage-blob, gorilla, smmap, gitdb, gitpython, sqlparse, prometheus-flask-exporter, querystring-parser, mlflow, lightgbm, plac, murmurhash, cymem, preshed, wasabi, catalogue, srsly, blis, thinc, spacy, Cython, boto, jmespath, botocore, s3transfer, boto3, smart-open, gensim, pycaret\n",
      "Successfully installed Cython-0.29.14 Flask-1.1.2 Mako-1.1.3 alembic-1.4.1 atomicwrites-1.4.0 azure-core-1.8.1 azure-storage-blob-12.5.0 blis-0.4.1 boto-2.49.0 boto3-1.15.1 botocore-1.18.1 catalogue-1.0.0 catboost-0.24.1 colorlover-0.3.0 combo-0.1.1 confuse-1.3.0 cufflinks-0.17.3 cymem-2.0.3 databricks-cli-0.11.0 datefinder-0.7.1 docker-4.3.1 funcy-1.14 future-0.18.2 gensim-3.8.3 gitdb-4.0.5 gitpython-3.1.8 gorilla-0.3.0 graphviz-0.14.1 htmlmin-0.1.12 imagehash-4.1.0 iniconfig-1.0.1 ipywidgets-7.5.1 isodate-0.6.0 itsdangerous-1.1.0 jmespath-0.10.0 kmodes-0.10.2 lightgbm-3.0.0 llvmlite-0.34.0 missingno-0.4.2 mlflow-1.11.0 mlxtend-0.17.3 more-itertools-8.5.0 msrest-0.6.19 murmurhash-1.0.2 nltk-3.5 numba-0.51.2 numexpr-2.7.1 pandas-profiling-2.9.0 patsy-0.5.1 phik-0.10.0 plac-1.1.3 plotly-4.10.0 pluggy-0.13.1 preshed-3.0.2 prometheus-flask-exporter-0.17.0 py-1.9.0 pyLDAvis-2.1.2 pycaret-2.1.2 pyod-0.8.2 pytest-6.0.2 python-editor-1.0.4 querystring-parser-1.2.4 regex-2020.7.14 retrying-1.3.3 s3transfer-0.3.3 smart-open-2.1.1 smmap-3.0.4 spacy-2.3.2 sqlalchemy-1.3.13 sqlparse-0.3.1 srsly-1.0.2 statsmodels-0.12.0 suod-0.0.4 tabulate-0.8.7 tangled-up-in-unicode-0.0.6 textblob-0.15.3 thinc-7.4.1 toml-0.10.1 tqdm-4.49.0 umap-learn-0.4.6 visions-0.5.0 waitress-1.4.4 wasabi-0.8.0 websocket-client-0.57.0 widgetsnbextension-3.5.1 wordcloud-1.8.0 yellowbrick-1.1\n"
     ]
    }
   ],
   "source": [
    "pip install pycaret"
   ]
  },
  {
   "cell_type": "markdown",
   "metadata": {},
   "source": [
    "## Deep Learning\n",
    "### Nesta parte utilizei uma rede neural para realizar o treinamento e verificar se ela possuia uma melhor performance que os outros modelos"
   ]
  },
  {
   "cell_type": "code",
   "execution_count": 59,
   "metadata": {},
   "outputs": [],
   "source": [
    "from sklearn.model_selection import train_test_split\n",
    "import numpy as np\n",
    "from sklearn.preprocessing import LabelBinarizer\n",
    "from sklearn.preprocessing import LabelEncoder\n",
    "\n",
    "#Target com binário \n",
    "def prepare_targets(y_train, y_test):\n",
    "    le = LabelEncoder()\n",
    "    le.fit(y_train)\n",
    "    y_train_enc = le.transform(y_train)\n",
    "    y_test_enc = le.transform(y_test)\n",
    "    return y_train_enc, y_test_enc\n",
    "\n",
    "y_train_enc, y_test_enc = prepare_targets(y_train, y_test)"
   ]
  },
  {
   "cell_type": "code",
   "execution_count": 60,
   "metadata": {},
   "outputs": [
    {
     "name": "stdout",
     "output_type": "stream",
     "text": [
      "9596     REABASTECER\n",
      "5213          NORMAL\n",
      "17280    REABASTECER\n",
      "13598    REABASTECER\n",
      "11161    REABASTECER\n",
      "            ...     \n",
      "16376    REABASTECER\n",
      "4802     REABASTECER\n",
      "10646         NORMAL\n",
      "9101     REABASTECER\n",
      "6857          NORMAL\n",
      "Name: TARGET, Length: 2106, dtype: object\n",
      "[1 0 1 ... 0 1 0]\n"
     ]
    }
   ],
   "source": [
    "print(y_test)\n",
    "print(y_test_enc)"
   ]
  },
  {
   "cell_type": "code",
   "execution_count": 34,
   "metadata": {},
   "outputs": [
    {
     "name": "stdout",
     "output_type": "stream",
     "text": [
      "Epoch 1/50\n",
      "16846/16846 [==============================] - 3s 159us/step - loss: 0.6687 - accuracy: 0.5840\n",
      "Epoch 2/50\n",
      "16846/16846 [==============================] - 2s 133us/step - loss: 0.6393 - accuracy: 0.6368\n",
      "Epoch 3/50\n",
      "16846/16846 [==============================] - 2s 145us/step - loss: 0.6197 - accuracy: 0.6726\n",
      "Epoch 4/50\n",
      "16846/16846 [==============================] - 2s 137us/step - loss: 0.6095 - accuracy: 0.6847\n",
      "Epoch 5/50\n",
      "16846/16846 [==============================] - 2s 129us/step - loss: 0.5996 - accuracy: 0.6966\n",
      "Epoch 6/50\n",
      "16846/16846 [==============================] - 2s 138us/step - loss: 0.5866 - accuracy: 0.7041\n",
      "Epoch 7/50\n",
      "16846/16846 [==============================] - 2s 137us/step - loss: 0.5755 - accuracy: 0.7170\n",
      "Epoch 8/50\n",
      "16846/16846 [==============================] - 2s 136us/step - loss: 0.5590 - accuracy: 0.7318\n",
      "Epoch 9/50\n",
      "16846/16846 [==============================] - 2s 138us/step - loss: 0.5475 - accuracy: 0.7348\n",
      "Epoch 10/50\n",
      "16846/16846 [==============================] - 2s 142us/step - loss: 0.5418 - accuracy: 0.7364\n",
      "Epoch 11/50\n",
      "16846/16846 [==============================] - 2s 134us/step - loss: 0.5295 - accuracy: 0.7436\n",
      "Epoch 12/50\n",
      "16846/16846 [==============================] - 2s 134us/step - loss: 0.5202 - accuracy: 0.7508\n",
      "Epoch 13/50\n",
      "16846/16846 [==============================] - 2s 145us/step - loss: 0.5099 - accuracy: 0.7547\n",
      "Epoch 14/50\n",
      "16846/16846 [==============================] - 2s 147us/step - loss: 0.5067 - accuracy: 0.7630\n",
      "Epoch 15/50\n",
      "16846/16846 [==============================] - 2s 144us/step - loss: 0.5064 - accuracy: 0.7591\n",
      "Epoch 16/50\n",
      "16846/16846 [==============================] - 2s 136us/step - loss: 0.4925 - accuracy: 0.7704\n",
      "Epoch 17/50\n",
      "16846/16846 [==============================] - 2s 145us/step - loss: 0.4918 - accuracy: 0.7707\n",
      "Epoch 18/50\n",
      "16846/16846 [==============================] - 2s 126us/step - loss: 0.4883 - accuracy: 0.7763\n",
      "Epoch 19/50\n",
      "16846/16846 [==============================] - 2s 139us/step - loss: 0.4854 - accuracy: 0.7795\n",
      "Epoch 20/50\n",
      "16846/16846 [==============================] - 2s 143us/step - loss: 0.4853 - accuracy: 0.7778\n",
      "Epoch 21/50\n",
      "16846/16846 [==============================] - 2s 135us/step - loss: 0.4792 - accuracy: 0.7821\n",
      "Epoch 22/50\n",
      "16846/16846 [==============================] - 2s 132us/step - loss: 0.4808 - accuracy: 0.7779\n",
      "Epoch 23/50\n",
      "16846/16846 [==============================] - 2s 134us/step - loss: 0.4795 - accuracy: 0.7824\n",
      "Epoch 24/50\n",
      "16846/16846 [==============================] - 2s 132us/step - loss: 0.4718 - accuracy: 0.7894\n",
      "Epoch 25/50\n",
      "16846/16846 [==============================] - 2s 116us/step - loss: 0.4733 - accuracy: 0.7870\n",
      "Epoch 26/50\n",
      "16846/16846 [==============================] - 2s 137us/step - loss: 0.4731 - accuracy: 0.7842\n",
      "Epoch 27/50\n",
      "16846/16846 [==============================] - 2s 137us/step - loss: 0.4637 - accuracy: 0.7938\n",
      "Epoch 28/50\n",
      "16846/16846 [==============================] - 2s 142us/step - loss: 0.4650 - accuracy: 0.7878\n",
      "Epoch 29/50\n",
      "16846/16846 [==============================] - 2s 133us/step - loss: 0.4646 - accuracy: 0.7903\n",
      "Epoch 30/50\n",
      "16846/16846 [==============================] - 2s 132us/step - loss: 0.4656 - accuracy: 0.7915\n",
      "Epoch 31/50\n",
      "16846/16846 [==============================] - 2s 135us/step - loss: 0.4637 - accuracy: 0.7923\n",
      "Epoch 32/50\n",
      "16846/16846 [==============================] - 2s 125us/step - loss: 0.4587 - accuracy: 0.7966\n",
      "Epoch 33/50\n",
      "16846/16846 [==============================] - 2s 130us/step - loss: 0.4578 - accuracy: 0.7962\n",
      "Epoch 34/50\n",
      "16846/16846 [==============================] - 2s 135us/step - loss: 0.4576 - accuracy: 0.7967\n",
      "Epoch 35/50\n",
      "16846/16846 [==============================] - 2s 135us/step - loss: 0.4552 - accuracy: 0.7962\n",
      "Epoch 36/50\n",
      "16846/16846 [==============================] - 2s 135us/step - loss: 0.4569 - accuracy: 0.7960\n",
      "Epoch 37/50\n",
      "16846/16846 [==============================] - 2s 131us/step - loss: 0.4509 - accuracy: 0.7992\n",
      "Epoch 38/50\n",
      "16846/16846 [==============================] - 2s 135us/step - loss: 0.4568 - accuracy: 0.7966\n",
      "Epoch 39/50\n",
      "16846/16846 [==============================] - 2s 132us/step - loss: 0.4500 - accuracy: 0.7994\n",
      "Epoch 40/50\n",
      "16846/16846 [==============================] - 2s 126us/step - loss: 0.4501 - accuracy: 0.8012\n",
      "Epoch 41/50\n",
      "16846/16846 [==============================] - 2s 135us/step - loss: 0.4508 - accuracy: 0.7979\n",
      "Epoch 42/50\n",
      "16846/16846 [==============================] - 2s 134us/step - loss: 0.4509 - accuracy: 0.7973\n",
      "Epoch 43/50\n",
      "16846/16846 [==============================] - 2s 134us/step - loss: 0.4501 - accuracy: 0.7993\n",
      "Epoch 44/50\n",
      "16846/16846 [==============================] - 2s 135us/step - loss: 0.4490 - accuracy: 0.7974\n",
      "Epoch 45/50\n",
      "16846/16846 [==============================] - 2s 130us/step - loss: 0.4490 - accuracy: 0.8007\n",
      "Epoch 46/50\n",
      "16846/16846 [==============================] - 2s 142us/step - loss: 0.4490 - accuracy: 0.8008\n",
      "Epoch 47/50\n",
      "16846/16846 [==============================] - 2s 119us/step - loss: 0.4457 - accuracy: 0.8025\n",
      "Epoch 48/50\n",
      "16846/16846 [==============================] - 2s 133us/step - loss: 0.4486 - accuracy: 0.8000\n",
      "Epoch 49/50\n",
      "16846/16846 [==============================] - 2s 135us/step - loss: 0.4496 - accuracy: 0.8005\n",
      "Epoch 50/50\n",
      "16846/16846 [==============================] - 2s 136us/step - loss: 0.4449 - accuracy: 0.7998\n"
     ]
    },
    {
     "data": {
      "text/plain": [
       "<keras.callbacks.callbacks.History at 0x2a4c7d5c7f0>"
      ]
     },
     "execution_count": 34,
     "metadata": {},
     "output_type": "execute_result"
    }
   ],
   "source": [
    "from keras.models import Sequential\n",
    "from keras.layers import Dense\n",
    "from keras.wrappers.scikit_learn import KerasClassifier\n",
    "from keras.layers import Dropout,Flatten\n",
    "\n",
    "\n",
    "model = Sequential()\n",
    "model.add(Dense(16, input_dim=8,kernel_initializer='uniform', activation='relu'))\n",
    "model.add(Dense(16 ,activation='relu'))\n",
    "model.add(Dense(16, activation='relu'))\n",
    "model.add(Dense(8, activation='softmax'))\n",
    "model.add(Dropout(0.2))\n",
    "model.add(Dense(1, activation='sigmoid'))\n",
    "\n",
    "model.compile(loss='binary_crossentropy', optimizer='adam', metrics=['accuracy'])\n",
    "model.fit(X_train, y_train_enc, epochs=50, batch_size=20)\n"
   ]
  },
  {
   "cell_type": "code",
   "execution_count": 35,
   "metadata": {},
   "outputs": [],
   "source": [
    "#Previsões depp learning\n",
    "\n",
    "y_pred = model.predict_classes(X_test)\n",
    "#print(y_pred)"
   ]
  },
  {
   "cell_type": "markdown",
   "metadata": {},
   "source": [
    "## Métricas do Deep Learning"
   ]
  },
  {
   "cell_type": "code",
   "execution_count": 36,
   "metadata": {},
   "outputs": [
    {
     "name": "stdout",
     "output_type": "stream",
     "text": [
      "[[1529  618]\n",
      " [ 187 1878]]\n",
      "F1 Score: [0.79161274 0.82350362]\n",
      "Precision: [0.89102564 0.75240385]\n",
      "Recall: [0.7121565 0.9094431]\n"
     ]
    }
   ],
   "source": [
    "from sklearn.metrics import confusion_matrix\n",
    "from sklearn.metrics import f1_score\n",
    "from sklearn.metrics import precision_score\n",
    "from sklearn.metrics import recall_score\n",
    "from sklearn.metrics import plot_confusion_matrix\n",
    "\n",
    "\n",
    "print(confusion_matrix(y_test_enc, y_pred))\n",
    "\n",
    "fScore = f1_score(y_test_enc, y_pred ,average=None)\n",
    "precision = precision_score(y_test_enc, y_pred ,average=None)\n",
    "recall = recall_score(y_test_enc, y_pred ,average=None)\n",
    "\n",
    "print(\"F1 Score:\", fScore)\n",
    "print(\"Precision:\", precision)\n",
    "print(\"Recall:\", recall)\n"
   ]
  },
  {
   "attachments": {
    "image.png": {
     "image/png": "[encoded data removed]"
    }
   },
   "cell_type": "markdown",
   "metadata": {},
   "source": [
    "## Conclusão.\n",
    "### A rede neural não se saiu melhor que nosso random florest ou o ensemble \n",
    "\n",
    "![image.png](attachment:image.png)\n",
    "\n"
   ]
  },
  {
   "cell_type": "markdown",
   "metadata": {},
   "source": [
    "### Para maximar a minha performance eu treinei toda a base de treino sem dividir em treino e teste. E foi com este modelo que eu participei da maratona"
   ]
  },
  {
   "cell_type": "code",
   "execution_count": 75,
   "metadata": {},
   "outputs": [
    {
     "data": {
      "text/plain": [
       "VotingClassifier(estimators=[('RandonFlorest',\n",
       "                              RandomForestClassifier(bootstrap=True,\n",
       "                                                     ccp_alpha=0.0,\n",
       "                                                     class_weight=None,\n",
       "                                                     criterion='entropy',\n",
       "                                                     max_depth=8,\n",
       "                                                     max_features='auto',\n",
       "                                                     max_leaf_nodes=None,\n",
       "                                                     max_samples=None,\n",
       "                                                     min_impurity_decrease=0.0,\n",
       "                                                     min_impurity_split=None,\n",
       "                                                     min_samples_leaf=1,\n",
       "                                                     min_samples_split=2,\n",
       "                                                     min_weight_fraction_leaf=0.0,\n",
       "                                                     n_estimators=200,\n",
       "                                                     n_jobs=Non...\n",
       "                                            max_depth=6, min_child_weight=1,\n",
       "                                            missing=nan,\n",
       "                                            monotone_constraints='()',\n",
       "                                            n_estimators=1000, n_jobs=0,\n",
       "                                            num_parallel_tree=1,\n",
       "                                            objective='binary:logistic',\n",
       "                                            random_state=0, reg_alpha=0.3,\n",
       "                                            reg_lambda=1, scale_pos_weight=1,\n",
       "                                            subsample=0.8, tree_method='exact',\n",
       "                                            validate_parameters=1,\n",
       "                                            verbosity=None))],\n",
       "                 flatten_transform=True, n_jobs=None, verbose=False,\n",
       "                 voting='soft', weights=None)"
      ]
     },
     "execution_count": 75,
     "metadata": {},
     "output_type": "execute_result"
    }
   ],
   "source": [
    "#Treinar a base toda\n",
    "cb.fit(X,y)"
   ]
  },
  {
   "cell_type": "markdown",
   "metadata": {},
   "source": []
  },
  {
   "cell_type": "markdown",
   "metadata": {},
   "source": [
    "<hr>"
   ]
  },
  {
   "cell_type": "markdown",
   "metadata": {},
   "source": [
    "## Scoring dos dados necessários para entregar a solução\n",
    "### Abaixo se encontra o código para entrega do desafio "
   ]
  },
  {
   "cell_type": "markdown",
   "metadata": {},
   "source": [
    "Como entrega da sua solução, esperamos os resultados classificados no seguinte dataset chamado \"to_be_scored.csv\":"
   ]
  },
  {
   "cell_type": "markdown",
   "metadata": {},
   "source": [
    "### Download da \"folha de respostas\""
   ]
  },
  {
   "cell_type": "code",
   "execution_count": 76,
   "metadata": {
    "scrolled": false
   },
   "outputs": [
    {
     "data": {
      "text/html": [
       "<div>\n",
       "<style scoped>\n",
       "    .dataframe tbody tr th:only-of-type {\n",
       "        vertical-align: middle;\n",
       "    }\n",
       "\n",
       "    .dataframe tbody tr th {\n",
       "        vertical-align: top;\n",
       "    }\n",
       "\n",
       "    .dataframe thead th {\n",
       "        text-align: right;\n",
       "    }\n",
       "</style>\n",
       "<table border=\"1\" class=\"dataframe\">\n",
       "  <thead>\n",
       "    <tr style=\"text-align: right;\">\n",
       "      <th></th>\n",
       "      <th>Tempo</th>\n",
       "      <th>Estação</th>\n",
       "      <th>LAT</th>\n",
       "      <th>LONG</th>\n",
       "      <th>Movimentação</th>\n",
       "      <th>Original_473</th>\n",
       "      <th>Original_269</th>\n",
       "      <th>Zero</th>\n",
       "      <th>Maçã-Verde</th>\n",
       "      <th>Tangerina</th>\n",
       "      <th>Citrus</th>\n",
       "      <th>Açaí-Guaraná</th>\n",
       "      <th>Pêssego</th>\n",
       "    </tr>\n",
       "  </thead>\n",
       "  <tbody>\n",
       "    <tr>\n",
       "      <th>979</th>\n",
       "      <td>2019-8-19</td>\n",
       "      <td>Hospital São Paulo</td>\n",
       "      <td>-23.5984</td>\n",
       "      <td>-46.6455</td>\n",
       "      <td>26787</td>\n",
       "      <td>34</td>\n",
       "      <td>65</td>\n",
       "      <td>28</td>\n",
       "      <td>17</td>\n",
       "      <td>33</td>\n",
       "      <td>27</td>\n",
       "      <td>6</td>\n",
       "      <td>2</td>\n",
       "    </tr>\n",
       "    <tr>\n",
       "      <th>980</th>\n",
       "      <td>2019-8-20</td>\n",
       "      <td>Hospital São Paulo</td>\n",
       "      <td>-23.5984</td>\n",
       "      <td>-46.6455</td>\n",
       "      <td>26629</td>\n",
       "      <td>21</td>\n",
       "      <td>60</td>\n",
       "      <td>18</td>\n",
       "      <td>15</td>\n",
       "      <td>27</td>\n",
       "      <td>22</td>\n",
       "      <td>43</td>\n",
       "      <td>43</td>\n",
       "    </tr>\n",
       "    <tr>\n",
       "      <th>981</th>\n",
       "      <td>2019-8-21</td>\n",
       "      <td>Hospital São Paulo</td>\n",
       "      <td>-23.5984</td>\n",
       "      <td>-46.6455</td>\n",
       "      <td>27517</td>\n",
       "      <td>9</td>\n",
       "      <td>56</td>\n",
       "      <td>13</td>\n",
       "      <td>14</td>\n",
       "      <td>21</td>\n",
       "      <td>17</td>\n",
       "      <td>37</td>\n",
       "      <td>37</td>\n",
       "    </tr>\n",
       "    <tr>\n",
       "      <th>982</th>\n",
       "      <td>2019-8-22</td>\n",
       "      <td>Hospital São Paulo</td>\n",
       "      <td>-23.5984</td>\n",
       "      <td>-46.6455</td>\n",
       "      <td>26860</td>\n",
       "      <td>86</td>\n",
       "      <td>49</td>\n",
       "      <td>7</td>\n",
       "      <td>14</td>\n",
       "      <td>17</td>\n",
       "      <td>12</td>\n",
       "      <td>33</td>\n",
       "      <td>33</td>\n",
       "    </tr>\n",
       "    <tr>\n",
       "      <th>983</th>\n",
       "      <td>2019-8-23</td>\n",
       "      <td>Hospital São Paulo</td>\n",
       "      <td>-23.5984</td>\n",
       "      <td>-46.6455</td>\n",
       "      <td>24571</td>\n",
       "      <td>74</td>\n",
       "      <td>41</td>\n",
       "      <td>65</td>\n",
       "      <td>8</td>\n",
       "      <td>14</td>\n",
       "      <td>7</td>\n",
       "      <td>27</td>\n",
       "      <td>27</td>\n",
       "    </tr>\n",
       "  </tbody>\n",
       "</table>\n",
       "</div>"
      ],
      "text/plain": [
       "         Tempo             Estação      LAT     LONG  Movimentação  \\\n",
       "979  2019-8-19  Hospital São Paulo -23.5984 -46.6455         26787   \n",
       "980  2019-8-20  Hospital São Paulo -23.5984 -46.6455         26629   \n",
       "981  2019-8-21  Hospital São Paulo -23.5984 -46.6455         27517   \n",
       "982  2019-8-22  Hospital São Paulo -23.5984 -46.6455         26860   \n",
       "983  2019-8-23  Hospital São Paulo -23.5984 -46.6455         24571   \n",
       "\n",
       "     Original_473  Original_269  Zero  Maçã-Verde  Tangerina  Citrus  \\\n",
       "979            34            65    28          17         33      27   \n",
       "980            21            60    18          15         27      22   \n",
       "981             9            56    13          14         21      17   \n",
       "982            86            49     7          14         17      12   \n",
       "983            74            41    65           8         14       7   \n",
       "\n",
       "     Açaí-Guaraná  Pêssego  \n",
       "979             6        2  \n",
       "980            43       43  \n",
       "981            37       37  \n",
       "982            33       33  \n",
       "983            27       27  "
      ]
     },
     "execution_count": 76,
     "metadata": {},
     "output_type": "execute_result"
    }
   ],
   "source": [
    "#!wget --no-check-certificate --content-disposition https://gitlab.com/JoaoPedroPP/datasets/-/raw/master/ntn/to_be_scored.csv\n",
    "df_to_be_scored = pd.read_csv(r'to_be_scored.csv')\n",
    "df_to_be_scored.tail()"
   ]
  },
  {
   "cell_type": "markdown",
   "metadata": {},
   "source": [
    "# Atenção!\n",
    "\n",
    "O dataframe ``to_be_scored`` é a sua \"folha de respostas\". Note que a coluna \"TARGET\" não existe nessa amostra, que não pode ser então utilizada para treino de modelos de aprendizado supervisionado."
   ]
  },
  {
   "cell_type": "code",
   "execution_count": 77,
   "metadata": {
    "scrolled": true
   },
   "outputs": [
    {
     "name": "stdout",
     "output_type": "stream",
     "text": [
      "<class 'pandas.core.frame.DataFrame'>\n",
      "RangeIndex: 984 entries, 0 to 983\n",
      "Data columns (total 13 columns):\n",
      " #   Column        Non-Null Count  Dtype  \n",
      "---  ------        --------------  -----  \n",
      " 0   Tempo         984 non-null    object \n",
      " 1   Estação       984 non-null    object \n",
      " 2   LAT           984 non-null    float64\n",
      " 3   LONG          984 non-null    float64\n",
      " 4   Movimentação  984 non-null    int64  \n",
      " 5   Original_473  984 non-null    int64  \n",
      " 6   Original_269  984 non-null    int64  \n",
      " 7   Zero          984 non-null    int64  \n",
      " 8   Maçã-Verde    984 non-null    int64  \n",
      " 9   Tangerina     984 non-null    int64  \n",
      " 10  Citrus        984 non-null    int64  \n",
      " 11  Açaí-Guaraná  984 non-null    int64  \n",
      " 12  Pêssego       984 non-null    int64  \n",
      "dtypes: float64(2), int64(9), object(2)\n",
      "memory usage: 100.1+ KB\n"
     ]
    }
   ],
   "source": [
    "df_to_be_scored.info()"
   ]
  },
  {
   "cell_type": "markdown",
   "metadata": {},
   "source": [
    "Na célula abaixo, repetimos rapidamente os mesmos passos de pré-processamento usados no exemplo dado com árvore de decisão"
   ]
  },
  {
   "cell_type": "code",
   "execution_count": 78,
   "metadata": {},
   "outputs": [
    {
     "data": {
      "text/html": [
       "<div>\n",
       "<style scoped>\n",
       "    .dataframe tbody tr th:only-of-type {\n",
       "        vertical-align: middle;\n",
       "    }\n",
       "\n",
       "    .dataframe tbody tr th {\n",
       "        vertical-align: top;\n",
       "    }\n",
       "\n",
       "    .dataframe thead th {\n",
       "        text-align: right;\n",
       "    }\n",
       "</style>\n",
       "<table border=\"1\" class=\"dataframe\">\n",
       "  <thead>\n",
       "    <tr style=\"text-align: right;\">\n",
       "      <th></th>\n",
       "      <th>Original_473</th>\n",
       "      <th>Original_269</th>\n",
       "      <th>Zero</th>\n",
       "      <th>Maçã-Verde</th>\n",
       "      <th>Tangerina</th>\n",
       "      <th>Citrus</th>\n",
       "      <th>Açaí-Guaraná</th>\n",
       "      <th>Pêssego</th>\n",
       "    </tr>\n",
       "  </thead>\n",
       "  <tbody>\n",
       "    <tr>\n",
       "      <th>979</th>\n",
       "      <td>34</td>\n",
       "      <td>65</td>\n",
       "      <td>28</td>\n",
       "      <td>17</td>\n",
       "      <td>33</td>\n",
       "      <td>27</td>\n",
       "      <td>6</td>\n",
       "      <td>2</td>\n",
       "    </tr>\n",
       "    <tr>\n",
       "      <th>980</th>\n",
       "      <td>21</td>\n",
       "      <td>60</td>\n",
       "      <td>18</td>\n",
       "      <td>15</td>\n",
       "      <td>27</td>\n",
       "      <td>22</td>\n",
       "      <td>43</td>\n",
       "      <td>43</td>\n",
       "    </tr>\n",
       "    <tr>\n",
       "      <th>981</th>\n",
       "      <td>9</td>\n",
       "      <td>56</td>\n",
       "      <td>13</td>\n",
       "      <td>14</td>\n",
       "      <td>21</td>\n",
       "      <td>17</td>\n",
       "      <td>37</td>\n",
       "      <td>37</td>\n",
       "    </tr>\n",
       "    <tr>\n",
       "      <th>982</th>\n",
       "      <td>86</td>\n",
       "      <td>49</td>\n",
       "      <td>7</td>\n",
       "      <td>14</td>\n",
       "      <td>17</td>\n",
       "      <td>12</td>\n",
       "      <td>33</td>\n",
       "      <td>33</td>\n",
       "    </tr>\n",
       "    <tr>\n",
       "      <th>983</th>\n",
       "      <td>74</td>\n",
       "      <td>41</td>\n",
       "      <td>65</td>\n",
       "      <td>8</td>\n",
       "      <td>14</td>\n",
       "      <td>7</td>\n",
       "      <td>27</td>\n",
       "      <td>27</td>\n",
       "    </tr>\n",
       "  </tbody>\n",
       "</table>\n",
       "</div>"
      ],
      "text/plain": [
       "     Original_473  Original_269  Zero  Maçã-Verde  Tangerina  Citrus  \\\n",
       "979            34            65    28          17         33      27   \n",
       "980            21            60    18          15         27      22   \n",
       "981             9            56    13          14         21      17   \n",
       "982            86            49     7          14         17      12   \n",
       "983            74            41    65           8         14       7   \n",
       "\n",
       "     Açaí-Guaraná  Pêssego  \n",
       "979             6        2  \n",
       "980            43       43  \n",
       "981            37       37  \n",
       "982            33       33  \n",
       "983            27       27  "
      ]
     },
     "execution_count": 78,
     "metadata": {},
     "output_type": "execute_result"
    }
   ],
   "source": [
    "# 1 - Removendo linhas com valores NaN\n",
    "df_to_be_scored_1 = df_to_be_scored.dropna(axis='index', how='any', subset=['Tempo', 'Estação', 'LAT', 'LONG', 'Movimentação', 'Original_473', 'Original_269', 'Zero', 'Maçã-Verde', 'Tangerina', 'Citrus', 'Açaí-Guaraná', 'Pêssego'])\n",
    "\n",
    "# 2 - Inputando zeros nos valores faltantes\n",
    "impute_zeros.fit(X=df_to_be_scored_1)\n",
    "df_to_be_scored_2 = pd.DataFrame.from_records(\n",
    "    data=impute_zeros.transform(\n",
    "        X=df_to_be_scored_1\n",
    "    ),\n",
    "    columns=df_to_be_scored_1.columns\n",
    ")\n",
    "\n",
    "# 3 - Remoção de colunas\n",
    "df_to_be_scored_3 = df_to_be_scored_2.drop(columns=['Tempo','Estação', 'LAT', 'LONG', 'Movimentação'], inplace=False)\n",
    "\n",
    "df_to_be_scored_4 = df_to_be_scored_3\n",
    "\n",
    "df_to_be_scored_4.tail()"
   ]
  },
  {
   "cell_type": "markdown",
   "metadata": {},
   "source": [
    "<hr>\n",
    "\n",
    "Pode ser verificado abaixo que as colunas da folha de resposta agora são idênticas às que foram usadas para treinar o modelo:"
   ]
  },
  {
   "cell_type": "code",
   "execution_count": 79,
   "metadata": {},
   "outputs": [
    {
     "ename": "NameError",
     "evalue": "name 'df_training' is not defined",
     "output_type": "error",
     "traceback": [
      "\u001b[1;31m---------------------------------------------------------------------------\u001b[0m",
      "\u001b[1;31mNameError\u001b[0m                                 Traceback (most recent call last)",
      "\u001b[1;32m<ipython-input-79-d67503ec42bd>\u001b[0m in \u001b[0;36m<module>\u001b[1;34m\u001b[0m\n\u001b[1;32m----> 1\u001b[1;33m df_training[\n\u001b[0m\u001b[0;32m      2\u001b[0m     [\n\u001b[0;32m      3\u001b[0m         \u001b[1;34m'Original_473'\u001b[0m\u001b[1;33m,\u001b[0m \u001b[1;34m'Original_269'\u001b[0m\u001b[1;33m,\u001b[0m \u001b[1;34m'Zero'\u001b[0m\u001b[1;33m,\u001b[0m \u001b[1;34m'Maçã-Verde'\u001b[0m\u001b[1;33m,\u001b[0m \u001b[1;34m'Tangerina'\u001b[0m\u001b[1;33m,\u001b[0m\u001b[1;33m\u001b[0m\u001b[1;33m\u001b[0m\u001b[0m\n\u001b[0;32m      4\u001b[0m        \u001b[1;34m'Citrus'\u001b[0m\u001b[1;33m,\u001b[0m \u001b[1;34m'Açaí-Guaraná'\u001b[0m\u001b[1;33m,\u001b[0m \u001b[1;34m'Pêssego'\u001b[0m\u001b[1;33m\u001b[0m\u001b[1;33m\u001b[0m\u001b[0m\n\u001b[0;32m      5\u001b[0m     ]\n",
      "\u001b[1;31mNameError\u001b[0m: name 'df_training' is not defined"
     ]
    }
   ],
   "source": [
    "df_training[\n",
    "    [\n",
    "        'Original_473', 'Original_269', 'Zero', 'Maçã-Verde', 'Tangerina',\n",
    "       'Citrus', 'Açaí-Guaraná', 'Pêssego'\n",
    "    ]\n",
    "].columns"
   ]
  },
  {
   "cell_type": "code",
   "execution_count": 80,
   "metadata": {},
   "outputs": [
    {
     "data": {
      "text/plain": [
       "Index(['Original_473', 'Original_269', 'Zero', 'Maçã-Verde', 'Tangerina',\n",
       "       'Citrus', 'Açaí-Guaraná', 'Pêssego'],\n",
       "      dtype='object')"
      ]
     },
     "execution_count": 80,
     "metadata": {},
     "output_type": "execute_result"
    }
   ],
   "source": [
    "df_to_be_scored_4.columns"
   ]
  },
  {
   "cell_type": "markdown",
   "metadata": {},
   "source": [
    "# Atenção\n",
    "\n",
    "Para todas colunas que não existirem no \"df_to_be_scored\", você pode usar a técnica abaixo para adicioná-las:"
   ]
  },
  {
   "cell_type": "code",
   "execution_count": 81,
   "metadata": {
    "scrolled": false
   },
   "outputs": [
    {
     "data": {
      "text/html": [
       "<div>\n",
       "<style scoped>\n",
       "    .dataframe tbody tr th:only-of-type {\n",
       "        vertical-align: middle;\n",
       "    }\n",
       "\n",
       "    .dataframe tbody tr th {\n",
       "        vertical-align: top;\n",
       "    }\n",
       "\n",
       "    .dataframe thead th {\n",
       "        text-align: right;\n",
       "    }\n",
       "</style>\n",
       "<table border=\"1\" class=\"dataframe\">\n",
       "  <thead>\n",
       "    <tr style=\"text-align: right;\">\n",
       "      <th></th>\n",
       "      <th>Original_473</th>\n",
       "      <th>Original_269</th>\n",
       "      <th>Zero</th>\n",
       "      <th>Maçã-Verde</th>\n",
       "      <th>Tangerina</th>\n",
       "      <th>Citrus</th>\n",
       "      <th>Açaí-Guaraná</th>\n",
       "      <th>Pêssego</th>\n",
       "      <th>TARGET</th>\n",
       "    </tr>\n",
       "  </thead>\n",
       "  <tbody>\n",
       "    <tr>\n",
       "      <th>979</th>\n",
       "      <td>34</td>\n",
       "      <td>65</td>\n",
       "      <td>28</td>\n",
       "      <td>17</td>\n",
       "      <td>33</td>\n",
       "      <td>27</td>\n",
       "      <td>6</td>\n",
       "      <td>2</td>\n",
       "      <td>REABASTECER</td>\n",
       "    </tr>\n",
       "    <tr>\n",
       "      <th>980</th>\n",
       "      <td>21</td>\n",
       "      <td>60</td>\n",
       "      <td>18</td>\n",
       "      <td>15</td>\n",
       "      <td>27</td>\n",
       "      <td>22</td>\n",
       "      <td>43</td>\n",
       "      <td>43</td>\n",
       "      <td>NORMAL</td>\n",
       "    </tr>\n",
       "    <tr>\n",
       "      <th>981</th>\n",
       "      <td>9</td>\n",
       "      <td>56</td>\n",
       "      <td>13</td>\n",
       "      <td>14</td>\n",
       "      <td>21</td>\n",
       "      <td>17</td>\n",
       "      <td>37</td>\n",
       "      <td>37</td>\n",
       "      <td>REABASTECER</td>\n",
       "    </tr>\n",
       "    <tr>\n",
       "      <th>982</th>\n",
       "      <td>86</td>\n",
       "      <td>49</td>\n",
       "      <td>7</td>\n",
       "      <td>14</td>\n",
       "      <td>17</td>\n",
       "      <td>12</td>\n",
       "      <td>33</td>\n",
       "      <td>33</td>\n",
       "      <td>REABASTECER</td>\n",
       "    </tr>\n",
       "    <tr>\n",
       "      <th>983</th>\n",
       "      <td>74</td>\n",
       "      <td>41</td>\n",
       "      <td>65</td>\n",
       "      <td>8</td>\n",
       "      <td>14</td>\n",
       "      <td>7</td>\n",
       "      <td>27</td>\n",
       "      <td>27</td>\n",
       "      <td>NORMAL</td>\n",
       "    </tr>\n",
       "  </tbody>\n",
       "</table>\n",
       "</div>"
      ],
      "text/plain": [
       "     Original_473  Original_269  Zero  Maçã-Verde  Tangerina  Citrus  \\\n",
       "979            34            65    28          17         33      27   \n",
       "980            21            60    18          15         27      22   \n",
       "981             9            56    13          14         21      17   \n",
       "982            86            49     7          14         17      12   \n",
       "983            74            41    65           8         14       7   \n",
       "\n",
       "     Açaí-Guaraná  Pêssego       TARGET  \n",
       "979             6        2  REABASTECER  \n",
       "980            43       43       NORMAL  \n",
       "981            37       37  REABASTECER  \n",
       "982            33       33  REABASTECER  \n",
       "983            27       27       NORMAL  "
      ]
     },
     "execution_count": 81,
     "metadata": {},
     "output_type": "execute_result"
    }
   ],
   "source": [
    "y_pred = cb.predict(df_to_be_scored_4)\n",
    "df_to_be_scored_4['TARGET'] = y_pred\n",
    "df_to_be_scored_4.tail()"
   ]
  },
  {
   "cell_type": "markdown",
   "metadata": {},
   "source": [
    "### Salvando a folha de respostas como um arquivo .csv para ser submetido"
   ]
  },
  {
   "cell_type": "code",
   "execution_count": 82,
   "metadata": {},
   "outputs": [],
   "source": [
    "df_to_be_scored_4.to_csv(\"results.csv\")"
   ]
  },
  {
   "cell_type": "markdown",
   "metadata": {},
   "source": [
    "# Atenção\n",
    "\n",
    "# A execução da célula acima irá criar um novo \"data asset\" no seu projeto no Watson Studio. Você precisará realizar o download deste arquivo juntamente com este notebook e criar um arquivo zip com os arquivos **results.csv** e **notebook.ipynb** para submissão. (os arquivos devem estar nomeados desta forma)"
   ]
  },
  {
   "cell_type": "markdown",
   "metadata": {},
   "source": [
    "<hr>\n",
    "\n",
    "## Parabéns!\n",
    "\n",
    "Se você já está satisfeito com a sua solução, vá até a página abaixo e envie os arquivos necessários para submissão.\n",
    "\n",
    "# https://tnt.maratona.dev\n"
   ]
  },
  {
   "cell_type": "markdown",
   "metadata": {},
   "source": [
    "0052cac1-f0bc-4c4a-b407-98ab2d9294bc - desafio 3"
   ]
  }
 ],
 "metadata": {
  "kernelspec": {
   "display_name": "Python 3",
   "language": "python",
   "name": "python3"
  },
  "language_info": {
   "codemirror_mode": {
    "name": "ipython",
    "version": 3
   },
   "file_extension": ".py",
   "mimetype": "text/x-python",
   "name": "python",
   "nbconvert_exporter": "python",
   "pygments_lexer": "ipython3",
   "version": "3.6.10"
  }
 },
 "nbformat": 4,
 "nbformat_minor": 1
}
